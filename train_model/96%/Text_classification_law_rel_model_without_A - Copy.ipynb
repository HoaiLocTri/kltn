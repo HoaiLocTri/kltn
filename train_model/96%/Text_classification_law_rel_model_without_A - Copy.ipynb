{
 "cells": [
  {
   "cell_type": "markdown",
   "metadata": {},
   "source": [
    "**Import Library**"
   ]
  },
  {
   "cell_type": "code",
   "execution_count": 1,
   "metadata": {},
   "outputs": [
    {
     "name": "stdout",
     "output_type": "stream",
     "text": [
      "WARNING:tensorflow:From c:\\Users\\Administrator\\AppData\\Local\\Programs\\Python\\Python311\\Lib\\site-packages\\keras\\src\\losses.py:2976: The name tf.losses.sparse_softmax_cross_entropy is deprecated. Please use tf.compat.v1.losses.sparse_softmax_cross_entropy instead.\n",
      "\n"
     ]
    }
   ],
   "source": [
    "import re\n",
    "import os\n",
    "import time\n",
    "\n",
    "import numpy as np\n",
    "import pandas as pd\n",
    "import tensorflow as tf\n",
    "import plotly.graph_objects as go\n",
    "import matplotlib.pyplot as plt\n",
    "\n",
    "from sklearn.metrics import confusion_matrix, precision_score, recall_score, f1_score\n",
    "from tensorflow.keras.preprocessing.text import Tokenizer\n",
    "from tensorflow.keras.preprocessing.sequence import pad_sequences\n",
    "from tensorflow.keras.models import Sequential, Model, load_model\n",
    "from keras_self_attention import SeqSelfAttention\n",
    "from tensorflow.keras.layers import Embedding, LSTM, Dense, Flatten\n",
    "from sklearn.model_selection import train_test_split\n",
    "from sklearn.preprocessing import LabelEncoder\n",
    "from tensorflow.keras.callbacks import EarlyStopping\n",
    "from underthesea import word_tokenize\n",
    "from collections import Counter\n",
    "import fasttext\n",
    "\n",
    "\n",
    "#from google.colab import drive\n",
    "#drive.mount('/content/gdrive')\n",
    "\n",
    "\n",
    "#path = \"/content/gdrive/MyDrive/KLTN/\"\n"
   ]
  },
  {
   "cell_type": "markdown",
   "metadata": {},
   "source": [
    "**Read data & Visualize**"
   ]
  },
  {
   "cell_type": "code",
   "execution_count": 2,
   "metadata": {},
   "outputs": [
    {
     "data": {
      "text/html": [
       "<div>\n",
       "<style scoped>\n",
       "    .dataframe tbody tr th:only-of-type {\n",
       "        vertical-align: middle;\n",
       "    }\n",
       "\n",
       "    .dataframe tbody tr th {\n",
       "        vertical-align: top;\n",
       "    }\n",
       "\n",
       "    .dataframe thead th {\n",
       "        text-align: right;\n",
       "    }\n",
       "</style>\n",
       "<table border=\"1\" class=\"dataframe\">\n",
       "  <thead>\n",
       "    <tr style=\"text-align: right;\">\n",
       "      <th></th>\n",
       "      <th>Loại</th>\n",
       "      <th>Thực thể tham chiếu</th>\n",
       "      <th>Quan hệ</th>\n",
       "      <th>Trước</th>\n",
       "      <th>Thực thể được tham chiếu</th>\n",
       "      <th>Sau</th>\n",
       "    </tr>\n",
       "  </thead>\n",
       "  <tbody>\n",
       "    <tr>\n",
       "      <th>0</th>\n",
       "      <td>HP</td>\n",
       "      <td>Luật số 31/2024/qh15 ngày 18 tháng 01 năm 2024...</td>\n",
       "      <td>CC</td>\n",
       "      <td>căn_cứ</td>\n",
       "      <td>Hiến_pháp nước cộng_hoà xã_hội chủ_nghĩa việt_nam</td>\n",
       "      <td>NaN</td>\n",
       "    </tr>\n",
       "    <tr>\n",
       "      <th>1</th>\n",
       "      <td>LT</td>\n",
       "      <td>Luật số 31/2024/qh15 ngày 18 tháng 01 năm 2024...</td>\n",
       "      <td>DC</td>\n",
       "      <td>trường_hợp cơ_quan , đơn_vị , tổ_chức thực_hiệ...</td>\n",
       "      <td>Luật quản_lí thuế_tính trên số</td>\n",
       "      <td>tiền chậm trả và thời_gian chậm trả</td>\n",
       "    </tr>\n",
       "    <tr>\n",
       "      <th>2</th>\n",
       "      <td>CT</td>\n",
       "      <td>Luật số 31/2024/qh15 ngày 18 tháng 01 năm 2024...</td>\n",
       "      <td>DC</td>\n",
       "      <td>một trong các giấy_tờ được lập trong quá_trình...</td>\n",
       "      <td>Chỉ_thị số 299/tg ngày 10 tháng 11 năm 1980</td>\n",
       "      <td>của thủ_tướng chính_phủ về công_tác đo_đạc , p...</td>\n",
       "    </tr>\n",
       "    <tr>\n",
       "      <th>3</th>\n",
       "      <td>CT</td>\n",
       "      <td>Luật số 31/2024/qh15 ngày 18 tháng 01 năm 2024...</td>\n",
       "      <td>DC</td>\n",
       "      <td>giấy_tờ của đơn_vị quốc_phòng giao đất cho cán...</td>\n",
       "      <td>Chỉ_thị số 282/ct-qp ngày 11 tháng 7 năm 1991</td>\n",
       "      <td>của bộ_trưởng bộ quốc_phòng mà việc giao đất đ...</td>\n",
       "    </tr>\n",
       "    <tr>\n",
       "      <th>4</th>\n",
       "      <td>NĐ</td>\n",
       "      <td>Luật số 31/2024/qh15 ngày 18 tháng 01 năm 2024...</td>\n",
       "      <td>DC</td>\n",
       "      <td>hợp_đồng mua_bán nhà ở thuộc sở_hữu nhà_nước t...</td>\n",
       "      <td>Nghị_định số 61-cp ngày 05 tháng 7 năm 1994</td>\n",
       "      <td>của chính_phủ về mua_bán và kinh_doanh nhà ở h...</td>\n",
       "    </tr>\n",
       "  </tbody>\n",
       "</table>\n",
       "</div>"
      ],
      "text/plain": [
       "  Loại                                Thực thể tham chiếu Quan hệ  \\\n",
       "0   HP  Luật số 31/2024/qh15 ngày 18 tháng 01 năm 2024...      CC   \n",
       "1   LT  Luật số 31/2024/qh15 ngày 18 tháng 01 năm 2024...      DC   \n",
       "2   CT  Luật số 31/2024/qh15 ngày 18 tháng 01 năm 2024...      DC   \n",
       "3   CT  Luật số 31/2024/qh15 ngày 18 tháng 01 năm 2024...      DC   \n",
       "4   NĐ  Luật số 31/2024/qh15 ngày 18 tháng 01 năm 2024...      DC   \n",
       "\n",
       "                                               Trước  \\\n",
       "0                                             căn_cứ   \n",
       "1  trường_hợp cơ_quan , đơn_vị , tổ_chức thực_hiệ...   \n",
       "2  một trong các giấy_tờ được lập trong quá_trình...   \n",
       "3  giấy_tờ của đơn_vị quốc_phòng giao đất cho cán...   \n",
       "4  hợp_đồng mua_bán nhà ở thuộc sở_hữu nhà_nước t...   \n",
       "\n",
       "                            Thực thể được tham chiếu  \\\n",
       "0  Hiến_pháp nước cộng_hoà xã_hội chủ_nghĩa việt_nam   \n",
       "1                     Luật quản_lí thuế_tính trên số   \n",
       "2        Chỉ_thị số 299/tg ngày 10 tháng 11 năm 1980   \n",
       "3      Chỉ_thị số 282/ct-qp ngày 11 tháng 7 năm 1991   \n",
       "4        Nghị_định số 61-cp ngày 05 tháng 7 năm 1994   \n",
       "\n",
       "                                                 Sau  \n",
       "0                                                NaN  \n",
       "1                tiền chậm trả và thời_gian chậm trả  \n",
       "2  của thủ_tướng chính_phủ về công_tác đo_đạc , p...  \n",
       "3  của bộ_trưởng bộ quốc_phòng mà việc giao đất đ...  \n",
       "4  của chính_phủ về mua_bán và kinh_doanh nhà ở h...  "
      ]
     },
     "execution_count": 2,
     "metadata": {},
     "output_type": "execute_result"
    }
   ],
   "source": [
    "#dt = pd.read_csv(\"data/vbpl.csv\", encoding=\"utf-8\")\n",
    "#dt.head()\n",
    "\n",
    "dt = pd.read_csv(\"data/tvpl.csv\", encoding=\"utf-8\")\n",
    "dt.head()"
   ]
  },
  {
   "cell_type": "code",
   "execution_count": 3,
   "metadata": {},
   "outputs": [
    {
     "name": "stdout",
     "output_type": "stream",
     "text": [
      "<class 'pandas.core.frame.DataFrame'>\n",
      "RangeIndex: 97626 entries, 0 to 97625\n",
      "Data columns (total 5 columns):\n",
      " #   Column                    Non-Null Count  Dtype \n",
      "---  ------                    --------------  ----- \n",
      " 0   Thực thể tham chiếu       97626 non-null  object\n",
      " 1   Quan hệ                   97626 non-null  object\n",
      " 2   Trước                     77294 non-null  object\n",
      " 3   Thực thể được tham chiếu  97626 non-null  object\n",
      " 4   Sau                       69685 non-null  object\n",
      "dtypes: object(5)\n",
      "memory usage: 3.7+ MB\n"
     ]
    },
    {
     "data": {
      "text/html": [
       "<div>\n",
       "<style scoped>\n",
       "    .dataframe tbody tr th:only-of-type {\n",
       "        vertical-align: middle;\n",
       "    }\n",
       "\n",
       "    .dataframe tbody tr th {\n",
       "        vertical-align: top;\n",
       "    }\n",
       "\n",
       "    .dataframe thead th {\n",
       "        text-align: right;\n",
       "    }\n",
       "</style>\n",
       "<table border=\"1\" class=\"dataframe\">\n",
       "  <thead>\n",
       "    <tr style=\"text-align: right;\">\n",
       "      <th></th>\n",
       "      <th>Thực thể tham chiếu</th>\n",
       "      <th>Quan hệ</th>\n",
       "      <th>Trước</th>\n",
       "      <th>Thực thể được tham chiếu</th>\n",
       "      <th>Sau</th>\n",
       "    </tr>\n",
       "  </thead>\n",
       "  <tbody>\n",
       "    <tr>\n",
       "      <th>0</th>\n",
       "      <td>Luật số 31/2024/qh15 ngày 18 tháng 01 năm 2024...</td>\n",
       "      <td>CC</td>\n",
       "      <td>căn_cứ</td>\n",
       "      <td>Hiến_pháp nước cộng_hoà xã_hội chủ_nghĩa việt_nam</td>\n",
       "      <td>NaN</td>\n",
       "    </tr>\n",
       "    <tr>\n",
       "      <th>1</th>\n",
       "      <td>Luật số 31/2024/qh15 ngày 18 tháng 01 năm 2024...</td>\n",
       "      <td>DC</td>\n",
       "      <td>trường_hợp cơ_quan , đơn_vị , tổ_chức thực_hiệ...</td>\n",
       "      <td>Luật quản_lí thuế_tính trên số</td>\n",
       "      <td>tiền chậm trả và thời_gian chậm trả</td>\n",
       "    </tr>\n",
       "    <tr>\n",
       "      <th>2</th>\n",
       "      <td>Luật số 31/2024/qh15 ngày 18 tháng 01 năm 2024...</td>\n",
       "      <td>DC</td>\n",
       "      <td>một trong các giấy_tờ được lập trong quá_trình...</td>\n",
       "      <td>Chỉ_thị số 299/tg ngày 10 tháng 11 năm 1980</td>\n",
       "      <td>của thủ_tướng chính_phủ về công_tác đo_đạc , p...</td>\n",
       "    </tr>\n",
       "    <tr>\n",
       "      <th>3</th>\n",
       "      <td>Luật số 31/2024/qh15 ngày 18 tháng 01 năm 2024...</td>\n",
       "      <td>DC</td>\n",
       "      <td>giấy_tờ của đơn_vị quốc_phòng giao đất cho cán...</td>\n",
       "      <td>Chỉ_thị số 282/ct-qp ngày 11 tháng 7 năm 1991</td>\n",
       "      <td>của bộ_trưởng bộ quốc_phòng mà việc giao đất đ...</td>\n",
       "    </tr>\n",
       "    <tr>\n",
       "      <th>4</th>\n",
       "      <td>Luật số 31/2024/qh15 ngày 18 tháng 01 năm 2024...</td>\n",
       "      <td>DC</td>\n",
       "      <td>hợp_đồng mua_bán nhà ở thuộc sở_hữu nhà_nước t...</td>\n",
       "      <td>Nghị_định số 61-cp ngày 05 tháng 7 năm 1994</td>\n",
       "      <td>của chính_phủ về mua_bán và kinh_doanh nhà ở h...</td>\n",
       "    </tr>\n",
       "    <tr>\n",
       "      <th>5</th>\n",
       "      <td>Luật số 31/2024/qh15 ngày 18 tháng 01 năm 2024...</td>\n",
       "      <td>DC</td>\n",
       "      <td>giấy_tờ về sở_hữu nhà ở do cơ_quan có thẩm_quy...</td>\n",
       "      <td>Nghị_quyết số 23/2003/qh11 ngày 26 tháng 11 nă...</td>\n",
       "      <td>của quốc_hội về nhà_đất do nhà_nước đã quản_lí...</td>\n",
       "    </tr>\n",
       "    <tr>\n",
       "      <th>6</th>\n",
       "      <td>Luật số 31/2024/qh15 ngày 18 tháng 01 năm 2024...</td>\n",
       "      <td>DC</td>\n",
       "      <td>NaN</td>\n",
       "      <td>Nghị_quyết số 755/2005/nq-ubtvqh11 ngày 02 thá...</td>\n",
       "      <td>của uỷ_ban thường_vụ quốc_hội quy_định việc gi...</td>\n",
       "    </tr>\n",
       "    <tr>\n",
       "      <th>7</th>\n",
       "      <td>Luật số 31/2024/qh15 ngày 18 tháng 01 năm 2024...</td>\n",
       "      <td>DSD</td>\n",
       "      <td>sửa_đổi , bổ_sung một_số điều của</td>\n",
       "      <td>Luật quy_hoạch số 21/2017/qh14</td>\n",
       "      <td>đã được sửa_đổi , bổ_sung một_số điều theo</td>\n",
       "    </tr>\n",
       "    <tr>\n",
       "      <th>8</th>\n",
       "      <td>Luật số 31/2024/qh15 ngày 18 tháng 01 năm 2024...</td>\n",
       "      <td>DC</td>\n",
       "      <td>NaN</td>\n",
       "      <td>Luật số 15/2023/qh15</td>\n",
       "      <td>,</td>\n",
       "    </tr>\n",
       "    <tr>\n",
       "      <th>9</th>\n",
       "      <td>Luật số 31/2024/qh15 ngày 18 tháng 01 năm 2024...</td>\n",
       "      <td>DC</td>\n",
       "      <td>NaN</td>\n",
       "      <td>Luật số 16/2023/qh15</td>\n",
       "      <td>và Luật số 28/2023/qh15</td>\n",
       "    </tr>\n",
       "  </tbody>\n",
       "</table>\n",
       "</div>"
      ],
      "text/plain": [
       "                                 Thực thể tham chiếu Quan hệ  \\\n",
       "0  Luật số 31/2024/qh15 ngày 18 tháng 01 năm 2024...      CC   \n",
       "1  Luật số 31/2024/qh15 ngày 18 tháng 01 năm 2024...      DC   \n",
       "2  Luật số 31/2024/qh15 ngày 18 tháng 01 năm 2024...      DC   \n",
       "3  Luật số 31/2024/qh15 ngày 18 tháng 01 năm 2024...      DC   \n",
       "4  Luật số 31/2024/qh15 ngày 18 tháng 01 năm 2024...      DC   \n",
       "5  Luật số 31/2024/qh15 ngày 18 tháng 01 năm 2024...      DC   \n",
       "6  Luật số 31/2024/qh15 ngày 18 tháng 01 năm 2024...      DC   \n",
       "7  Luật số 31/2024/qh15 ngày 18 tháng 01 năm 2024...     DSD   \n",
       "8  Luật số 31/2024/qh15 ngày 18 tháng 01 năm 2024...      DC   \n",
       "9  Luật số 31/2024/qh15 ngày 18 tháng 01 năm 2024...      DC   \n",
       "\n",
       "                                               Trước  \\\n",
       "0                                             căn_cứ   \n",
       "1  trường_hợp cơ_quan , đơn_vị , tổ_chức thực_hiệ...   \n",
       "2  một trong các giấy_tờ được lập trong quá_trình...   \n",
       "3  giấy_tờ của đơn_vị quốc_phòng giao đất cho cán...   \n",
       "4  hợp_đồng mua_bán nhà ở thuộc sở_hữu nhà_nước t...   \n",
       "5  giấy_tờ về sở_hữu nhà ở do cơ_quan có thẩm_quy...   \n",
       "6                                                NaN   \n",
       "7                  sửa_đổi , bổ_sung một_số điều của   \n",
       "8                                                NaN   \n",
       "9                                                NaN   \n",
       "\n",
       "                            Thực thể được tham chiếu  \\\n",
       "0  Hiến_pháp nước cộng_hoà xã_hội chủ_nghĩa việt_nam   \n",
       "1                     Luật quản_lí thuế_tính trên số   \n",
       "2        Chỉ_thị số 299/tg ngày 10 tháng 11 năm 1980   \n",
       "3      Chỉ_thị số 282/ct-qp ngày 11 tháng 7 năm 1991   \n",
       "4        Nghị_định số 61-cp ngày 05 tháng 7 năm 1994   \n",
       "5  Nghị_quyết số 23/2003/qh11 ngày 26 tháng 11 nă...   \n",
       "6  Nghị_quyết số 755/2005/nq-ubtvqh11 ngày 02 thá...   \n",
       "7                     Luật quy_hoạch số 21/2017/qh14   \n",
       "8                               Luật số 15/2023/qh15   \n",
       "9                               Luật số 16/2023/qh15   \n",
       "\n",
       "                                                 Sau  \n",
       "0                                                NaN  \n",
       "1                tiền chậm trả và thời_gian chậm trả  \n",
       "2  của thủ_tướng chính_phủ về công_tác đo_đạc , p...  \n",
       "3  của bộ_trưởng bộ quốc_phòng mà việc giao đất đ...  \n",
       "4  của chính_phủ về mua_bán và kinh_doanh nhà ở h...  \n",
       "5  của quốc_hội về nhà_đất do nhà_nước đã quản_lí...  \n",
       "6  của uỷ_ban thường_vụ quốc_hội quy_định việc gi...  \n",
       "7         đã được sửa_đổi , bổ_sung một_số điều theo  \n",
       "8                                                  ,  \n",
       "9                            và Luật số 28/2023/qh15  "
      ]
     },
     "execution_count": 3,
     "metadata": {},
     "output_type": "execute_result"
    }
   ],
   "source": [
    "A = \"Thực thể tham chiếu\"\n",
    "Label = \"Quan hệ\"\n",
    "B = \"Thực thể được tham chiếu\"\n",
    "After_B = \"Trước\"\n",
    "Before_B = \"Sau\"\n",
    "\n",
    "data_Clean = dt[[A,Label,After_B,B,Before_B]].copy()\n",
    "data_Clean[Label] = dt[Label].fillna('None')\n",
    "data_Clean[[A, B]].dropna()\n",
    "data_Clean.info()\n",
    "\n",
    "\n",
    "data_Clean['Quan hệ'].unique()\n",
    "data_Clean.head(10)"
   ]
  },
  {
   "cell_type": "code",
   "execution_count": 4,
   "metadata": {},
   "outputs": [
    {
     "ename": "ValueError",
     "evalue": "Mime type rendering requires nbformat>=4.2.0 but it is not installed",
     "output_type": "error",
     "traceback": [
      "\u001b[1;31m---------------------------------------------------------------------------\u001b[0m",
      "\u001b[1;31mValueError\u001b[0m                                Traceback (most recent call last)",
      "File \u001b[1;32m~\\AppData\\Roaming\\Python\\Python311\\site-packages\\IPython\\core\\formatters.py:925\u001b[0m, in \u001b[0;36mIPythonDisplayFormatter.__call__\u001b[1;34m(self, obj)\u001b[0m\n\u001b[0;32m    923\u001b[0m method \u001b[39m=\u001b[39m get_real_method(obj, \u001b[39mself\u001b[39m\u001b[39m.\u001b[39mprint_method)\n\u001b[0;32m    924\u001b[0m \u001b[39mif\u001b[39;00m method \u001b[39mis\u001b[39;00m \u001b[39mnot\u001b[39;00m \u001b[39mNone\u001b[39;00m:\n\u001b[1;32m--> 925\u001b[0m     method()\n\u001b[0;32m    926\u001b[0m     \u001b[39mreturn\u001b[39;00m \u001b[39mTrue\u001b[39;00m\n",
      "File \u001b[1;32mc:\\Users\\Administrator\\AppData\\Local\\Programs\\Python\\Python311\\Lib\\site-packages\\plotly\\basedatatypes.py:832\u001b[0m, in \u001b[0;36mBaseFigure._ipython_display_\u001b[1;34m(self)\u001b[0m\n\u001b[0;32m    829\u001b[0m \u001b[39mimport\u001b[39;00m \u001b[39mplotly\u001b[39;00m\u001b[39m.\u001b[39;00m\u001b[39mio\u001b[39;00m \u001b[39mas\u001b[39;00m \u001b[39mpio\u001b[39;00m\n\u001b[0;32m    831\u001b[0m \u001b[39mif\u001b[39;00m pio\u001b[39m.\u001b[39mrenderers\u001b[39m.\u001b[39mrender_on_display \u001b[39mand\u001b[39;00m pio\u001b[39m.\u001b[39mrenderers\u001b[39m.\u001b[39mdefault:\n\u001b[1;32m--> 832\u001b[0m     pio\u001b[39m.\u001b[39;49mshow(\u001b[39mself\u001b[39;49m)\n\u001b[0;32m    833\u001b[0m \u001b[39melse\u001b[39;00m:\n\u001b[0;32m    834\u001b[0m     \u001b[39mprint\u001b[39m(\u001b[39mrepr\u001b[39m(\u001b[39mself\u001b[39m))\n",
      "File \u001b[1;32mc:\\Users\\Administrator\\AppData\\Local\\Programs\\Python\\Python311\\Lib\\site-packages\\plotly\\io\\_renderers.py:394\u001b[0m, in \u001b[0;36mshow\u001b[1;34m(fig, renderer, validate, **kwargs)\u001b[0m\n\u001b[0;32m    389\u001b[0m         \u001b[39mraise\u001b[39;00m \u001b[39mValueError\u001b[39;00m(\n\u001b[0;32m    390\u001b[0m             \u001b[39m\"\u001b[39m\u001b[39mMime type rendering requires ipython but it is not installed\u001b[39m\u001b[39m\"\u001b[39m\n\u001b[0;32m    391\u001b[0m         )\n\u001b[0;32m    393\u001b[0m     \u001b[39mif\u001b[39;00m \u001b[39mnot\u001b[39;00m nbformat \u001b[39mor\u001b[39;00m Version(nbformat\u001b[39m.\u001b[39m__version__) \u001b[39m<\u001b[39m Version(\u001b[39m\"\u001b[39m\u001b[39m4.2.0\u001b[39m\u001b[39m\"\u001b[39m):\n\u001b[1;32m--> 394\u001b[0m         \u001b[39mraise\u001b[39;00m \u001b[39mValueError\u001b[39;00m(\n\u001b[0;32m    395\u001b[0m             \u001b[39m\"\u001b[39m\u001b[39mMime type rendering requires nbformat>=4.2.0 but it is not installed\u001b[39m\u001b[39m\"\u001b[39m\n\u001b[0;32m    396\u001b[0m         )\n\u001b[0;32m    398\u001b[0m     ipython_display\u001b[39m.\u001b[39mdisplay(bundle, raw\u001b[39m=\u001b[39m\u001b[39mTrue\u001b[39;00m)\n\u001b[0;32m    400\u001b[0m \u001b[39m# external renderers\u001b[39;00m\n",
      "\u001b[1;31mValueError\u001b[0m: Mime type rendering requires nbformat>=4.2.0 but it is not installed"
     ]
    },
    {
     "data": {
      "application/vnd.plotly.v1+json": {
       "config": {
        "plotlyServerURL": "https://plot.ly"
       },
       "data": [
        {
         "marker": {
          "color": "cadetblue"
         },
         "type": "bar",
         "width": [
          0.4,
          0.4
         ],
         "x": [
          "BTT",
          "CC",
          "DC",
          "DHD",
          "DSD",
          "HHL",
          "None"
         ],
         "y": [
          2233,
          32498,
          42614,
          1129,
          2904,
          1082,
          15166
         ]
        }
       ],
       "layout": {
        "template": {
         "data": {
          "bar": [
           {
            "error_x": {
             "color": "#2a3f5f"
            },
            "error_y": {
             "color": "#2a3f5f"
            },
            "marker": {
             "line": {
              "color": "#E5ECF6",
              "width": 0.5
             },
             "pattern": {
              "fillmode": "overlay",
              "size": 10,
              "solidity": 0.2
             }
            },
            "type": "bar"
           }
          ],
          "barpolar": [
           {
            "marker": {
             "line": {
              "color": "#E5ECF6",
              "width": 0.5
             },
             "pattern": {
              "fillmode": "overlay",
              "size": 10,
              "solidity": 0.2
             }
            },
            "type": "barpolar"
           }
          ],
          "carpet": [
           {
            "aaxis": {
             "endlinecolor": "#2a3f5f",
             "gridcolor": "white",
             "linecolor": "white",
             "minorgridcolor": "white",
             "startlinecolor": "#2a3f5f"
            },
            "baxis": {
             "endlinecolor": "#2a3f5f",
             "gridcolor": "white",
             "linecolor": "white",
             "minorgridcolor": "white",
             "startlinecolor": "#2a3f5f"
            },
            "type": "carpet"
           }
          ],
          "choropleth": [
           {
            "colorbar": {
             "outlinewidth": 0,
             "ticks": ""
            },
            "type": "choropleth"
           }
          ],
          "contour": [
           {
            "colorbar": {
             "outlinewidth": 0,
             "ticks": ""
            },
            "colorscale": [
             [
              0,
              "#0d0887"
             ],
             [
              0.1111111111111111,
              "#46039f"
             ],
             [
              0.2222222222222222,
              "#7201a8"
             ],
             [
              0.3333333333333333,
              "#9c179e"
             ],
             [
              0.4444444444444444,
              "#bd3786"
             ],
             [
              0.5555555555555556,
              "#d8576b"
             ],
             [
              0.6666666666666666,
              "#ed7953"
             ],
             [
              0.7777777777777778,
              "#fb9f3a"
             ],
             [
              0.8888888888888888,
              "#fdca26"
             ],
             [
              1,
              "#f0f921"
             ]
            ],
            "type": "contour"
           }
          ],
          "contourcarpet": [
           {
            "colorbar": {
             "outlinewidth": 0,
             "ticks": ""
            },
            "type": "contourcarpet"
           }
          ],
          "heatmap": [
           {
            "colorbar": {
             "outlinewidth": 0,
             "ticks": ""
            },
            "colorscale": [
             [
              0,
              "#0d0887"
             ],
             [
              0.1111111111111111,
              "#46039f"
             ],
             [
              0.2222222222222222,
              "#7201a8"
             ],
             [
              0.3333333333333333,
              "#9c179e"
             ],
             [
              0.4444444444444444,
              "#bd3786"
             ],
             [
              0.5555555555555556,
              "#d8576b"
             ],
             [
              0.6666666666666666,
              "#ed7953"
             ],
             [
              0.7777777777777778,
              "#fb9f3a"
             ],
             [
              0.8888888888888888,
              "#fdca26"
             ],
             [
              1,
              "#f0f921"
             ]
            ],
            "type": "heatmap"
           }
          ],
          "heatmapgl": [
           {
            "colorbar": {
             "outlinewidth": 0,
             "ticks": ""
            },
            "colorscale": [
             [
              0,
              "#0d0887"
             ],
             [
              0.1111111111111111,
              "#46039f"
             ],
             [
              0.2222222222222222,
              "#7201a8"
             ],
             [
              0.3333333333333333,
              "#9c179e"
             ],
             [
              0.4444444444444444,
              "#bd3786"
             ],
             [
              0.5555555555555556,
              "#d8576b"
             ],
             [
              0.6666666666666666,
              "#ed7953"
             ],
             [
              0.7777777777777778,
              "#fb9f3a"
             ],
             [
              0.8888888888888888,
              "#fdca26"
             ],
             [
              1,
              "#f0f921"
             ]
            ],
            "type": "heatmapgl"
           }
          ],
          "histogram": [
           {
            "marker": {
             "pattern": {
              "fillmode": "overlay",
              "size": 10,
              "solidity": 0.2
             }
            },
            "type": "histogram"
           }
          ],
          "histogram2d": [
           {
            "colorbar": {
             "outlinewidth": 0,
             "ticks": ""
            },
            "colorscale": [
             [
              0,
              "#0d0887"
             ],
             [
              0.1111111111111111,
              "#46039f"
             ],
             [
              0.2222222222222222,
              "#7201a8"
             ],
             [
              0.3333333333333333,
              "#9c179e"
             ],
             [
              0.4444444444444444,
              "#bd3786"
             ],
             [
              0.5555555555555556,
              "#d8576b"
             ],
             [
              0.6666666666666666,
              "#ed7953"
             ],
             [
              0.7777777777777778,
              "#fb9f3a"
             ],
             [
              0.8888888888888888,
              "#fdca26"
             ],
             [
              1,
              "#f0f921"
             ]
            ],
            "type": "histogram2d"
           }
          ],
          "histogram2dcontour": [
           {
            "colorbar": {
             "outlinewidth": 0,
             "ticks": ""
            },
            "colorscale": [
             [
              0,
              "#0d0887"
             ],
             [
              0.1111111111111111,
              "#46039f"
             ],
             [
              0.2222222222222222,
              "#7201a8"
             ],
             [
              0.3333333333333333,
              "#9c179e"
             ],
             [
              0.4444444444444444,
              "#bd3786"
             ],
             [
              0.5555555555555556,
              "#d8576b"
             ],
             [
              0.6666666666666666,
              "#ed7953"
             ],
             [
              0.7777777777777778,
              "#fb9f3a"
             ],
             [
              0.8888888888888888,
              "#fdca26"
             ],
             [
              1,
              "#f0f921"
             ]
            ],
            "type": "histogram2dcontour"
           }
          ],
          "mesh3d": [
           {
            "colorbar": {
             "outlinewidth": 0,
             "ticks": ""
            },
            "type": "mesh3d"
           }
          ],
          "parcoords": [
           {
            "line": {
             "colorbar": {
              "outlinewidth": 0,
              "ticks": ""
             }
            },
            "type": "parcoords"
           }
          ],
          "pie": [
           {
            "automargin": true,
            "type": "pie"
           }
          ],
          "scatter": [
           {
            "fillpattern": {
             "fillmode": "overlay",
             "size": 10,
             "solidity": 0.2
            },
            "type": "scatter"
           }
          ],
          "scatter3d": [
           {
            "line": {
             "colorbar": {
              "outlinewidth": 0,
              "ticks": ""
             }
            },
            "marker": {
             "colorbar": {
              "outlinewidth": 0,
              "ticks": ""
             }
            },
            "type": "scatter3d"
           }
          ],
          "scattercarpet": [
           {
            "marker": {
             "colorbar": {
              "outlinewidth": 0,
              "ticks": ""
             }
            },
            "type": "scattercarpet"
           }
          ],
          "scattergeo": [
           {
            "marker": {
             "colorbar": {
              "outlinewidth": 0,
              "ticks": ""
             }
            },
            "type": "scattergeo"
           }
          ],
          "scattergl": [
           {
            "marker": {
             "colorbar": {
              "outlinewidth": 0,
              "ticks": ""
             }
            },
            "type": "scattergl"
           }
          ],
          "scattermapbox": [
           {
            "marker": {
             "colorbar": {
              "outlinewidth": 0,
              "ticks": ""
             }
            },
            "type": "scattermapbox"
           }
          ],
          "scatterpolar": [
           {
            "marker": {
             "colorbar": {
              "outlinewidth": 0,
              "ticks": ""
             }
            },
            "type": "scatterpolar"
           }
          ],
          "scatterpolargl": [
           {
            "marker": {
             "colorbar": {
              "outlinewidth": 0,
              "ticks": ""
             }
            },
            "type": "scatterpolargl"
           }
          ],
          "scatterternary": [
           {
            "marker": {
             "colorbar": {
              "outlinewidth": 0,
              "ticks": ""
             }
            },
            "type": "scatterternary"
           }
          ],
          "surface": [
           {
            "colorbar": {
             "outlinewidth": 0,
             "ticks": ""
            },
            "colorscale": [
             [
              0,
              "#0d0887"
             ],
             [
              0.1111111111111111,
              "#46039f"
             ],
             [
              0.2222222222222222,
              "#7201a8"
             ],
             [
              0.3333333333333333,
              "#9c179e"
             ],
             [
              0.4444444444444444,
              "#bd3786"
             ],
             [
              0.5555555555555556,
              "#d8576b"
             ],
             [
              0.6666666666666666,
              "#ed7953"
             ],
             [
              0.7777777777777778,
              "#fb9f3a"
             ],
             [
              0.8888888888888888,
              "#fdca26"
             ],
             [
              1,
              "#f0f921"
             ]
            ],
            "type": "surface"
           }
          ],
          "table": [
           {
            "cells": {
             "fill": {
              "color": "#EBF0F8"
             },
             "line": {
              "color": "white"
             }
            },
            "header": {
             "fill": {
              "color": "#C8D4E3"
             },
             "line": {
              "color": "white"
             }
            },
            "type": "table"
           }
          ]
         },
         "layout": {
          "annotationdefaults": {
           "arrowcolor": "#2a3f5f",
           "arrowhead": 0,
           "arrowwidth": 1
          },
          "autotypenumbers": "strict",
          "coloraxis": {
           "colorbar": {
            "outlinewidth": 0,
            "ticks": ""
           }
          },
          "colorscale": {
           "diverging": [
            [
             0,
             "#8e0152"
            ],
            [
             0.1,
             "#c51b7d"
            ],
            [
             0.2,
             "#de77ae"
            ],
            [
             0.3,
             "#f1b6da"
            ],
            [
             0.4,
             "#fde0ef"
            ],
            [
             0.5,
             "#f7f7f7"
            ],
            [
             0.6,
             "#e6f5d0"
            ],
            [
             0.7,
             "#b8e186"
            ],
            [
             0.8,
             "#7fbc41"
            ],
            [
             0.9,
             "#4d9221"
            ],
            [
             1,
             "#276419"
            ]
           ],
           "sequential": [
            [
             0,
             "#0d0887"
            ],
            [
             0.1111111111111111,
             "#46039f"
            ],
            [
             0.2222222222222222,
             "#7201a8"
            ],
            [
             0.3333333333333333,
             "#9c179e"
            ],
            [
             0.4444444444444444,
             "#bd3786"
            ],
            [
             0.5555555555555556,
             "#d8576b"
            ],
            [
             0.6666666666666666,
             "#ed7953"
            ],
            [
             0.7777777777777778,
             "#fb9f3a"
            ],
            [
             0.8888888888888888,
             "#fdca26"
            ],
            [
             1,
             "#f0f921"
            ]
           ],
           "sequentialminus": [
            [
             0,
             "#0d0887"
            ],
            [
             0.1111111111111111,
             "#46039f"
            ],
            [
             0.2222222222222222,
             "#7201a8"
            ],
            [
             0.3333333333333333,
             "#9c179e"
            ],
            [
             0.4444444444444444,
             "#bd3786"
            ],
            [
             0.5555555555555556,
             "#d8576b"
            ],
            [
             0.6666666666666666,
             "#ed7953"
            ],
            [
             0.7777777777777778,
             "#fb9f3a"
            ],
            [
             0.8888888888888888,
             "#fdca26"
            ],
            [
             1,
             "#f0f921"
            ]
           ]
          },
          "colorway": [
           "#636efa",
           "#EF553B",
           "#00cc96",
           "#ab63fa",
           "#FFA15A",
           "#19d3f3",
           "#FF6692",
           "#B6E880",
           "#FF97FF",
           "#FECB52"
          ],
          "font": {
           "color": "#2a3f5f"
          },
          "geo": {
           "bgcolor": "white",
           "lakecolor": "white",
           "landcolor": "#E5ECF6",
           "showlakes": true,
           "showland": true,
           "subunitcolor": "white"
          },
          "hoverlabel": {
           "align": "left"
          },
          "hovermode": "closest",
          "mapbox": {
           "style": "light"
          },
          "paper_bgcolor": "white",
          "plot_bgcolor": "#E5ECF6",
          "polar": {
           "angularaxis": {
            "gridcolor": "white",
            "linecolor": "white",
            "ticks": ""
           },
           "bgcolor": "#E5ECF6",
           "radialaxis": {
            "gridcolor": "white",
            "linecolor": "white",
            "ticks": ""
           }
          },
          "scene": {
           "xaxis": {
            "backgroundcolor": "#E5ECF6",
            "gridcolor": "white",
            "gridwidth": 2,
            "linecolor": "white",
            "showbackground": true,
            "ticks": "",
            "zerolinecolor": "white"
           },
           "yaxis": {
            "backgroundcolor": "#E5ECF6",
            "gridcolor": "white",
            "gridwidth": 2,
            "linecolor": "white",
            "showbackground": true,
            "ticks": "",
            "zerolinecolor": "white"
           },
           "zaxis": {
            "backgroundcolor": "#E5ECF6",
            "gridcolor": "white",
            "gridwidth": 2,
            "linecolor": "white",
            "showbackground": true,
            "ticks": "",
            "zerolinecolor": "white"
           }
          },
          "shapedefaults": {
           "line": {
            "color": "#2a3f5f"
           }
          },
          "ternary": {
           "aaxis": {
            "gridcolor": "white",
            "linecolor": "white",
            "ticks": ""
           },
           "baxis": {
            "gridcolor": "white",
            "linecolor": "white",
            "ticks": ""
           },
           "bgcolor": "#E5ECF6",
           "caxis": {
            "gridcolor": "white",
            "linecolor": "white",
            "ticks": ""
           }
          },
          "title": {
           "x": 0.05
          },
          "xaxis": {
           "automargin": true,
           "gridcolor": "white",
           "linecolor": "white",
           "ticks": "",
           "title": {
            "standoff": 15
           },
           "zerolinecolor": "white",
           "zerolinewidth": 2
          },
          "yaxis": {
           "automargin": true,
           "gridcolor": "white",
           "linecolor": "white",
           "ticks": "",
           "title": {
            "standoff": 15
           },
           "zerolinecolor": "white",
           "zerolinewidth": 2
          }
         }
        },
        "title": {
         "text": "Classes and their number in the dataset",
         "x": 0.5
        }
       }
      },
      "text/html": [
       "<div>                        <script type=\"text/javascript\">window.PlotlyConfig = {MathJaxConfig: 'local'};</script>\n",
       "        <script charset=\"utf-8\" src=\"https://cdn.plot.ly/plotly-2.31.1.min.js\"></script>                <div id=\"b7d74660-4d88-43c1-8395-f9497ead8414\" class=\"plotly-graph-div\" style=\"height:100%; width:100%;\"></div>            <script type=\"text/javascript\">                                    window.PLOTLYENV=window.PLOTLYENV || {};                                    if (document.getElementById(\"b7d74660-4d88-43c1-8395-f9497ead8414\")) {                    Plotly.newPlot(                        \"b7d74660-4d88-43c1-8395-f9497ead8414\",                        [{\"marker\":{\"color\":\"cadetblue\"},\"width\":[0.4,0.4],\"x\":[\"BTT\",\"CC\",\"DC\",\"DHD\",\"DSD\",\"HHL\",\"None\"],\"y\":[2233,32498,42614,1129,2904,1082,15166],\"type\":\"bar\"}],                        {\"template\":{\"data\":{\"histogram2dcontour\":[{\"type\":\"histogram2dcontour\",\"colorbar\":{\"outlinewidth\":0,\"ticks\":\"\"},\"colorscale\":[[0.0,\"#0d0887\"],[0.1111111111111111,\"#46039f\"],[0.2222222222222222,\"#7201a8\"],[0.3333333333333333,\"#9c179e\"],[0.4444444444444444,\"#bd3786\"],[0.5555555555555556,\"#d8576b\"],[0.6666666666666666,\"#ed7953\"],[0.7777777777777778,\"#fb9f3a\"],[0.8888888888888888,\"#fdca26\"],[1.0,\"#f0f921\"]]}],\"choropleth\":[{\"type\":\"choropleth\",\"colorbar\":{\"outlinewidth\":0,\"ticks\":\"\"}}],\"histogram2d\":[{\"type\":\"histogram2d\",\"colorbar\":{\"outlinewidth\":0,\"ticks\":\"\"},\"colorscale\":[[0.0,\"#0d0887\"],[0.1111111111111111,\"#46039f\"],[0.2222222222222222,\"#7201a8\"],[0.3333333333333333,\"#9c179e\"],[0.4444444444444444,\"#bd3786\"],[0.5555555555555556,\"#d8576b\"],[0.6666666666666666,\"#ed7953\"],[0.7777777777777778,\"#fb9f3a\"],[0.8888888888888888,\"#fdca26\"],[1.0,\"#f0f921\"]]}],\"heatmap\":[{\"type\":\"heatmap\",\"colorbar\":{\"outlinewidth\":0,\"ticks\":\"\"},\"colorscale\":[[0.0,\"#0d0887\"],[0.1111111111111111,\"#46039f\"],[0.2222222222222222,\"#7201a8\"],[0.3333333333333333,\"#9c179e\"],[0.4444444444444444,\"#bd3786\"],[0.5555555555555556,\"#d8576b\"],[0.6666666666666666,\"#ed7953\"],[0.7777777777777778,\"#fb9f3a\"],[0.8888888888888888,\"#fdca26\"],[1.0,\"#f0f921\"]]}],\"heatmapgl\":[{\"type\":\"heatmapgl\",\"colorbar\":{\"outlinewidth\":0,\"ticks\":\"\"},\"colorscale\":[[0.0,\"#0d0887\"],[0.1111111111111111,\"#46039f\"],[0.2222222222222222,\"#7201a8\"],[0.3333333333333333,\"#9c179e\"],[0.4444444444444444,\"#bd3786\"],[0.5555555555555556,\"#d8576b\"],[0.6666666666666666,\"#ed7953\"],[0.7777777777777778,\"#fb9f3a\"],[0.8888888888888888,\"#fdca26\"],[1.0,\"#f0f921\"]]}],\"contourcarpet\":[{\"type\":\"contourcarpet\",\"colorbar\":{\"outlinewidth\":0,\"ticks\":\"\"}}],\"contour\":[{\"type\":\"contour\",\"colorbar\":{\"outlinewidth\":0,\"ticks\":\"\"},\"colorscale\":[[0.0,\"#0d0887\"],[0.1111111111111111,\"#46039f\"],[0.2222222222222222,\"#7201a8\"],[0.3333333333333333,\"#9c179e\"],[0.4444444444444444,\"#bd3786\"],[0.5555555555555556,\"#d8576b\"],[0.6666666666666666,\"#ed7953\"],[0.7777777777777778,\"#fb9f3a\"],[0.8888888888888888,\"#fdca26\"],[1.0,\"#f0f921\"]]}],\"surface\":[{\"type\":\"surface\",\"colorbar\":{\"outlinewidth\":0,\"ticks\":\"\"},\"colorscale\":[[0.0,\"#0d0887\"],[0.1111111111111111,\"#46039f\"],[0.2222222222222222,\"#7201a8\"],[0.3333333333333333,\"#9c179e\"],[0.4444444444444444,\"#bd3786\"],[0.5555555555555556,\"#d8576b\"],[0.6666666666666666,\"#ed7953\"],[0.7777777777777778,\"#fb9f3a\"],[0.8888888888888888,\"#fdca26\"],[1.0,\"#f0f921\"]]}],\"mesh3d\":[{\"type\":\"mesh3d\",\"colorbar\":{\"outlinewidth\":0,\"ticks\":\"\"}}],\"scatter\":[{\"fillpattern\":{\"fillmode\":\"overlay\",\"size\":10,\"solidity\":0.2},\"type\":\"scatter\"}],\"parcoords\":[{\"type\":\"parcoords\",\"line\":{\"colorbar\":{\"outlinewidth\":0,\"ticks\":\"\"}}}],\"scatterpolargl\":[{\"type\":\"scatterpolargl\",\"marker\":{\"colorbar\":{\"outlinewidth\":0,\"ticks\":\"\"}}}],\"bar\":[{\"error_x\":{\"color\":\"#2a3f5f\"},\"error_y\":{\"color\":\"#2a3f5f\"},\"marker\":{\"line\":{\"color\":\"#E5ECF6\",\"width\":0.5},\"pattern\":{\"fillmode\":\"overlay\",\"size\":10,\"solidity\":0.2}},\"type\":\"bar\"}],\"scattergeo\":[{\"type\":\"scattergeo\",\"marker\":{\"colorbar\":{\"outlinewidth\":0,\"ticks\":\"\"}}}],\"scatterpolar\":[{\"type\":\"scatterpolar\",\"marker\":{\"colorbar\":{\"outlinewidth\":0,\"ticks\":\"\"}}}],\"histogram\":[{\"marker\":{\"pattern\":{\"fillmode\":\"overlay\",\"size\":10,\"solidity\":0.2}},\"type\":\"histogram\"}],\"scattergl\":[{\"type\":\"scattergl\",\"marker\":{\"colorbar\":{\"outlinewidth\":0,\"ticks\":\"\"}}}],\"scatter3d\":[{\"type\":\"scatter3d\",\"line\":{\"colorbar\":{\"outlinewidth\":0,\"ticks\":\"\"}},\"marker\":{\"colorbar\":{\"outlinewidth\":0,\"ticks\":\"\"}}}],\"scattermapbox\":[{\"type\":\"scattermapbox\",\"marker\":{\"colorbar\":{\"outlinewidth\":0,\"ticks\":\"\"}}}],\"scatterternary\":[{\"type\":\"scatterternary\",\"marker\":{\"colorbar\":{\"outlinewidth\":0,\"ticks\":\"\"}}}],\"scattercarpet\":[{\"type\":\"scattercarpet\",\"marker\":{\"colorbar\":{\"outlinewidth\":0,\"ticks\":\"\"}}}],\"carpet\":[{\"aaxis\":{\"endlinecolor\":\"#2a3f5f\",\"gridcolor\":\"white\",\"linecolor\":\"white\",\"minorgridcolor\":\"white\",\"startlinecolor\":\"#2a3f5f\"},\"baxis\":{\"endlinecolor\":\"#2a3f5f\",\"gridcolor\":\"white\",\"linecolor\":\"white\",\"minorgridcolor\":\"white\",\"startlinecolor\":\"#2a3f5f\"},\"type\":\"carpet\"}],\"table\":[{\"cells\":{\"fill\":{\"color\":\"#EBF0F8\"},\"line\":{\"color\":\"white\"}},\"header\":{\"fill\":{\"color\":\"#C8D4E3\"},\"line\":{\"color\":\"white\"}},\"type\":\"table\"}],\"barpolar\":[{\"marker\":{\"line\":{\"color\":\"#E5ECF6\",\"width\":0.5},\"pattern\":{\"fillmode\":\"overlay\",\"size\":10,\"solidity\":0.2}},\"type\":\"barpolar\"}],\"pie\":[{\"automargin\":true,\"type\":\"pie\"}]},\"layout\":{\"autotypenumbers\":\"strict\",\"colorway\":[\"#636efa\",\"#EF553B\",\"#00cc96\",\"#ab63fa\",\"#FFA15A\",\"#19d3f3\",\"#FF6692\",\"#B6E880\",\"#FF97FF\",\"#FECB52\"],\"font\":{\"color\":\"#2a3f5f\"},\"hovermode\":\"closest\",\"hoverlabel\":{\"align\":\"left\"},\"paper_bgcolor\":\"white\",\"plot_bgcolor\":\"#E5ECF6\",\"polar\":{\"bgcolor\":\"#E5ECF6\",\"angularaxis\":{\"gridcolor\":\"white\",\"linecolor\":\"white\",\"ticks\":\"\"},\"radialaxis\":{\"gridcolor\":\"white\",\"linecolor\":\"white\",\"ticks\":\"\"}},\"ternary\":{\"bgcolor\":\"#E5ECF6\",\"aaxis\":{\"gridcolor\":\"white\",\"linecolor\":\"white\",\"ticks\":\"\"},\"baxis\":{\"gridcolor\":\"white\",\"linecolor\":\"white\",\"ticks\":\"\"},\"caxis\":{\"gridcolor\":\"white\",\"linecolor\":\"white\",\"ticks\":\"\"}},\"coloraxis\":{\"colorbar\":{\"outlinewidth\":0,\"ticks\":\"\"}},\"colorscale\":{\"sequential\":[[0.0,\"#0d0887\"],[0.1111111111111111,\"#46039f\"],[0.2222222222222222,\"#7201a8\"],[0.3333333333333333,\"#9c179e\"],[0.4444444444444444,\"#bd3786\"],[0.5555555555555556,\"#d8576b\"],[0.6666666666666666,\"#ed7953\"],[0.7777777777777778,\"#fb9f3a\"],[0.8888888888888888,\"#fdca26\"],[1.0,\"#f0f921\"]],\"sequentialminus\":[[0.0,\"#0d0887\"],[0.1111111111111111,\"#46039f\"],[0.2222222222222222,\"#7201a8\"],[0.3333333333333333,\"#9c179e\"],[0.4444444444444444,\"#bd3786\"],[0.5555555555555556,\"#d8576b\"],[0.6666666666666666,\"#ed7953\"],[0.7777777777777778,\"#fb9f3a\"],[0.8888888888888888,\"#fdca26\"],[1.0,\"#f0f921\"]],\"diverging\":[[0,\"#8e0152\"],[0.1,\"#c51b7d\"],[0.2,\"#de77ae\"],[0.3,\"#f1b6da\"],[0.4,\"#fde0ef\"],[0.5,\"#f7f7f7\"],[0.6,\"#e6f5d0\"],[0.7,\"#b8e186\"],[0.8,\"#7fbc41\"],[0.9,\"#4d9221\"],[1,\"#276419\"]]},\"xaxis\":{\"gridcolor\":\"white\",\"linecolor\":\"white\",\"ticks\":\"\",\"title\":{\"standoff\":15},\"zerolinecolor\":\"white\",\"automargin\":true,\"zerolinewidth\":2},\"yaxis\":{\"gridcolor\":\"white\",\"linecolor\":\"white\",\"ticks\":\"\",\"title\":{\"standoff\":15},\"zerolinecolor\":\"white\",\"automargin\":true,\"zerolinewidth\":2},\"scene\":{\"xaxis\":{\"backgroundcolor\":\"#E5ECF6\",\"gridcolor\":\"white\",\"linecolor\":\"white\",\"showbackground\":true,\"ticks\":\"\",\"zerolinecolor\":\"white\",\"gridwidth\":2},\"yaxis\":{\"backgroundcolor\":\"#E5ECF6\",\"gridcolor\":\"white\",\"linecolor\":\"white\",\"showbackground\":true,\"ticks\":\"\",\"zerolinecolor\":\"white\",\"gridwidth\":2},\"zaxis\":{\"backgroundcolor\":\"#E5ECF6\",\"gridcolor\":\"white\",\"linecolor\":\"white\",\"showbackground\":true,\"ticks\":\"\",\"zerolinecolor\":\"white\",\"gridwidth\":2}},\"shapedefaults\":{\"line\":{\"color\":\"#2a3f5f\"}},\"annotationdefaults\":{\"arrowcolor\":\"#2a3f5f\",\"arrowhead\":0,\"arrowwidth\":1},\"geo\":{\"bgcolor\":\"white\",\"landcolor\":\"#E5ECF6\",\"subunitcolor\":\"white\",\"showland\":true,\"showlakes\":true,\"lakecolor\":\"white\"},\"title\":{\"x\":0.05},\"mapbox\":{\"style\":\"light\"}}},\"title\":{\"text\":\"Classes and their number in the dataset\",\"x\":0.5}},                        {\"responsive\": true}                    )                };                            </script>        </div>"
      ],
      "text/plain": [
       "Figure({\n",
       "    'data': [{'marker': {'color': 'cadetblue'},\n",
       "              'type': 'bar',\n",
       "              'width': [0.4, 0.4],\n",
       "              'x': array(['BTT', 'CC', 'DC', 'DHD', 'DSD', 'HHL', 'None'], dtype=object),\n",
       "              'y': array([ 2233, 32498, 42614,  1129,  2904,  1082, 15166], dtype=int64)}],\n",
       "    'layout': {'template': '...', 'title': {'text': 'Classes and their number in the dataset', 'x': 0.5}}\n",
       "})"
      ]
     },
     "execution_count": 4,
     "metadata": {},
     "output_type": "execute_result"
    }
   ],
   "source": [
    "groups = data_Clean.groupby(by=Label).count()[A]\n",
    "fig = go.Figure()\n",
    "fig.add_trace(go.Bar(\n",
    "    x=groups.index,\n",
    "    y=groups,\n",
    "    marker_color='cadetblue',\n",
    "    width=[0.4, 0.4]))\n",
    "fig.update_layout(title='Classes and their number in the dataset', title_x=0.5)"
   ]
  },
  {
   "cell_type": "markdown",
   "metadata": {},
   "source": [
    "**Preprocessing**"
   ]
  },
  {
   "cell_type": "code",
   "execution_count": 5,
   "metadata": {},
   "outputs": [],
   "source": [
    "def load_dicchar():\n",
    "    dic = {}\n",
    "    char1252 = 'à|á|ả|ã|ạ|ầ|ấ|ẩ|ẫ|ậ|ằ|ắ|ẳ|ẵ|ặ|è|é|ẻ|ẽ|ẹ|ề|ế|ể|ễ|ệ|ì|í|ỉ|ĩ|ị|ò|ó|ỏ|õ|ọ|ồ|ố|ổ|ỗ|ộ|ờ|ớ|ở|ỡ|ợ|ù|ú|ủ|ũ|ụ|ừ|ứ|ử|ữ|ự|ỳ|ý|ỷ|ỹ|ỵ|À|Á|Ả|Ã|Ạ|Ầ|Ấ|Ẩ|Ẫ|Ậ|Ằ|Ắ|Ẳ|Ẵ|Ặ|È|É|Ẻ|Ẽ|Ẹ|Ề|Ế|Ể|Ễ|Ệ|Ì|Í|Ỉ|Ĩ|Ị|Ò|Ó|Ỏ|Õ|Ọ|Ồ|Ố|Ổ|Ỗ|Ộ|Ờ|Ớ|Ở|Ỡ|Ợ|Ù|Ú|Ủ|Ũ|Ụ|Ừ|Ứ|Ử|Ữ|Ự|Ỳ|Ý|Ỷ|Ỹ|Ỵ'.split(\n",
    "        '|')\n",
    "    charutf8 = \"à|á|ả|ã|ạ|ầ|ấ|ẩ|ẫ|ậ|ằ|ắ|ẳ|ẵ|ặ|è|é|ẻ|ẽ|ẹ|ề|ế|ể|ễ|ệ|ì|í|ỉ|ĩ|ị|ò|ó|ỏ|õ|ọ|ồ|ố|ổ|ỗ|ộ|ờ|ớ|ở|ỡ|ợ|ù|ú|ủ|ũ|ụ|ừ|ứ|ử|ữ|ự|ỳ|ý|ỷ|ỹ|ỵ|À|Á|Ả|Ã|Ạ|Ầ|Ấ|Ẩ|Ẫ|Ậ|Ằ|Ắ|Ẳ|Ẵ|Ặ|È|É|Ẻ|Ẽ|Ẹ|Ề|Ế|Ể|Ễ|Ệ|Ì|Í|Ỉ|Ĩ|Ị|Ò|Ó|Ỏ|Õ|Ọ|Ồ|Ố|Ổ|Ỗ|Ộ|Ờ|Ớ|Ở|Ỡ|Ợ|Ù|Ú|Ủ|Ũ|Ụ|Ừ|Ứ|Ử|Ữ|Ự|Ỳ|Ý|Ỷ|Ỹ|Ỵ\".split(\n",
    "        '|')\n",
    "    for i in range(len(char1252)):\n",
    "        dic[char1252[i]] = charutf8[i]\n",
    "    return dic\n",
    "\n",
    "# Chuyển đổi mã kí tự 1252 sang UTF-8\n",
    "def covert_unicode(text):\n",
    "    dicchar = load_dicchar()\n",
    "    return re.sub(\n",
    "        r'à|á|ả|ã|ạ|ầ|ấ|ẩ|ẫ|ậ|ằ|ắ|ẳ|ẵ|ặ|è|é|ẻ|ẽ|ẹ|ề|ế|ể|ễ|ệ|ì|í|ỉ|ĩ|ị|ò|ó|ỏ|õ|ọ|ồ|ố|ổ|ỗ|ộ|ờ|ớ|ở|ỡ|ợ|ù|ú|ủ|ũ|ụ|ừ|ứ|ử|ữ|ự|ỳ|ý|ỷ|ỹ|ỵ|À|Á|Ả|Ã|Ạ|Ầ|Ấ|Ẩ|Ẫ|Ậ|Ằ|Ắ|Ẳ|Ẵ|Ặ|È|É|Ẻ|Ẽ|Ẹ|Ề|Ế|Ể|Ễ|Ệ|Ì|Í|Ỉ|Ĩ|Ị|Ò|Ó|Ỏ|Õ|Ọ|Ồ|Ố|Ổ|Ỗ|Ộ|Ờ|Ớ|Ở|Ỡ|Ợ|Ù|Ú|Ủ|Ũ|Ụ|Ừ|Ứ|Ử|Ữ|Ự|Ỳ|Ý|Ỷ|Ỹ|Ỵ',\n",
    "        lambda x: dicchar[x.group()], text)\n",
    "\n",
    "def text_preprocessing(document):\n",
    "    # Chuyển đổi mã kí tự 1252 sang UTF-8\n",
    "    document['Text'] = document['Text'].apply(covert_unicode)\n",
    "    # Đưa về dạng chữ thường\n",
    "    document['Text'] = document['Text'].str.lower()\n",
    "    # xóa các ký tự không cần thiết\n",
    "    document['Text'] = document['Text'].apply(lambda x: re.sub(r'[^\\w\\s]', '', str(x)))\n",
    "    document = document['Text'].apply(lambda y: re.sub(r'[^\\s\\wáàảãạăắằẳẵặâấầẩẫậéèẻẽẹêếềểễệóòỏõọôốồổỗộơớờởỡợíìỉĩịúùủũụưứừửữựýỳỷỹỵđ_]',' ',str(y)))\n",
    "    return document"
   ]
  },
  {
   "cell_type": "code",
   "execution_count": 6,
   "metadata": {},
   "outputs": [
    {
     "name": "stdout",
     "output_type": "stream",
     "text": [
      "<class 'pandas.core.frame.DataFrame'>\n",
      "RangeIndex: 97626 entries, 0 to 97625\n",
      "Data columns (total 5 columns):\n",
      " #   Column                    Non-Null Count  Dtype \n",
      "---  ------                    --------------  ----- \n",
      " 0   Thực thể tham chiếu       97626 non-null  object\n",
      " 1   Quan hệ                   97626 non-null  object\n",
      " 2   Trước                     77294 non-null  object\n",
      " 3   Thực thể được tham chiếu  97626 non-null  object\n",
      " 4   Sau                       69685 non-null  object\n",
      "dtypes: object(5)\n",
      "memory usage: 3.7+ MB\n"
     ]
    },
    {
     "data": {
      "text/html": [
       "<div>\n",
       "<style scoped>\n",
       "    .dataframe tbody tr th:only-of-type {\n",
       "        vertical-align: middle;\n",
       "    }\n",
       "\n",
       "    .dataframe tbody tr th {\n",
       "        vertical-align: top;\n",
       "    }\n",
       "\n",
       "    .dataframe thead th {\n",
       "        text-align: right;\n",
       "    }\n",
       "</style>\n",
       "<table border=\"1\" class=\"dataframe\">\n",
       "  <thead>\n",
       "    <tr style=\"text-align: right;\">\n",
       "      <th></th>\n",
       "      <th>Thực thể tham chiếu</th>\n",
       "      <th>Quan hệ</th>\n",
       "      <th>Trước</th>\n",
       "      <th>Thực thể được tham chiếu</th>\n",
       "      <th>Sau</th>\n",
       "    </tr>\n",
       "  </thead>\n",
       "  <tbody>\n",
       "    <tr>\n",
       "      <th>0</th>\n",
       "      <td>Luật số 31/2024/qh15 ngày 18 tháng 01 năm 2024...</td>\n",
       "      <td>CC</td>\n",
       "      <td>căn_cứ</td>\n",
       "      <td>Hiến_pháp nước cộng_hoà xã_hội chủ_nghĩa việt_nam</td>\n",
       "      <td>NaN</td>\n",
       "    </tr>\n",
       "    <tr>\n",
       "      <th>1</th>\n",
       "      <td>Luật số 31/2024/qh15 ngày 18 tháng 01 năm 2024...</td>\n",
       "      <td>DC</td>\n",
       "      <td>trường_hợp cơ_quan , đơn_vị , tổ_chức thực_hiệ...</td>\n",
       "      <td>Luật quản_lí thuế_tính trên số</td>\n",
       "      <td>tiền chậm trả và thời_gian chậm trả</td>\n",
       "    </tr>\n",
       "    <tr>\n",
       "      <th>2</th>\n",
       "      <td>Luật số 31/2024/qh15 ngày 18 tháng 01 năm 2024...</td>\n",
       "      <td>DC</td>\n",
       "      <td>một trong các giấy_tờ được lập trong quá_trình...</td>\n",
       "      <td>Chỉ_thị số 299/tg ngày 10 tháng 11 năm 1980</td>\n",
       "      <td>của thủ_tướng chính_phủ về công_tác đo_đạc , p...</td>\n",
       "    </tr>\n",
       "    <tr>\n",
       "      <th>3</th>\n",
       "      <td>Luật số 31/2024/qh15 ngày 18 tháng 01 năm 2024...</td>\n",
       "      <td>DC</td>\n",
       "      <td>giấy_tờ của đơn_vị quốc_phòng giao đất cho cán...</td>\n",
       "      <td>Chỉ_thị số 282/ct-qp ngày 11 tháng 7 năm 1991</td>\n",
       "      <td>của bộ_trưởng bộ quốc_phòng mà việc giao đất đ...</td>\n",
       "    </tr>\n",
       "    <tr>\n",
       "      <th>4</th>\n",
       "      <td>Luật số 31/2024/qh15 ngày 18 tháng 01 năm 2024...</td>\n",
       "      <td>DC</td>\n",
       "      <td>hợp_đồng mua_bán nhà ở thuộc sở_hữu nhà_nước t...</td>\n",
       "      <td>Nghị_định số 61-cp ngày 05 tháng 7 năm 1994</td>\n",
       "      <td>của chính_phủ về mua_bán và kinh_doanh nhà ở h...</td>\n",
       "    </tr>\n",
       "  </tbody>\n",
       "</table>\n",
       "</div>"
      ],
      "text/plain": [
       "                                 Thực thể tham chiếu Quan hệ  \\\n",
       "0  Luật số 31/2024/qh15 ngày 18 tháng 01 năm 2024...      CC   \n",
       "1  Luật số 31/2024/qh15 ngày 18 tháng 01 năm 2024...      DC   \n",
       "2  Luật số 31/2024/qh15 ngày 18 tháng 01 năm 2024...      DC   \n",
       "3  Luật số 31/2024/qh15 ngày 18 tháng 01 năm 2024...      DC   \n",
       "4  Luật số 31/2024/qh15 ngày 18 tháng 01 năm 2024...      DC   \n",
       "\n",
       "                                               Trước  \\\n",
       "0                                             căn_cứ   \n",
       "1  trường_hợp cơ_quan , đơn_vị , tổ_chức thực_hiệ...   \n",
       "2  một trong các giấy_tờ được lập trong quá_trình...   \n",
       "3  giấy_tờ của đơn_vị quốc_phòng giao đất cho cán...   \n",
       "4  hợp_đồng mua_bán nhà ở thuộc sở_hữu nhà_nước t...   \n",
       "\n",
       "                            Thực thể được tham chiếu  \\\n",
       "0  Hiến_pháp nước cộng_hoà xã_hội chủ_nghĩa việt_nam   \n",
       "1                     Luật quản_lí thuế_tính trên số   \n",
       "2        Chỉ_thị số 299/tg ngày 10 tháng 11 năm 1980   \n",
       "3      Chỉ_thị số 282/ct-qp ngày 11 tháng 7 năm 1991   \n",
       "4        Nghị_định số 61-cp ngày 05 tháng 7 năm 1994   \n",
       "\n",
       "                                                 Sau  \n",
       "0                                                NaN  \n",
       "1                tiền chậm trả và thời_gian chậm trả  \n",
       "2  của thủ_tướng chính_phủ về công_tác đo_đạc , p...  \n",
       "3  của bộ_trưởng bộ quốc_phòng mà việc giao đất đ...  \n",
       "4  của chính_phủ về mua_bán và kinh_doanh nhà ở h...  "
      ]
     },
     "execution_count": 6,
     "metadata": {},
     "output_type": "execute_result"
    }
   ],
   "source": [
    "dt_clean =  data_Clean.loc[data_Clean[Label].isin(groups.index)].reset_index(drop=True)\n",
    "dt_clean.info()\n",
    "dt_clean.head()"
   ]
  },
  {
   "cell_type": "code",
   "execution_count": 7,
   "metadata": {},
   "outputs": [
    {
     "data": {
      "text/html": [
       "<div>\n",
       "<style scoped>\n",
       "    .dataframe tbody tr th:only-of-type {\n",
       "        vertical-align: middle;\n",
       "    }\n",
       "\n",
       "    .dataframe tbody tr th {\n",
       "        vertical-align: top;\n",
       "    }\n",
       "\n",
       "    .dataframe thead th {\n",
       "        text-align: right;\n",
       "    }\n",
       "</style>\n",
       "<table border=\"1\" class=\"dataframe\">\n",
       "  <thead>\n",
       "    <tr style=\"text-align: right;\">\n",
       "      <th></th>\n",
       "      <th>Thực thể tham chiếu</th>\n",
       "      <th>Quan hệ</th>\n",
       "      <th>Trước</th>\n",
       "      <th>Thực thể được tham chiếu</th>\n",
       "      <th>Sau</th>\n",
       "      <th>Text</th>\n",
       "    </tr>\n",
       "  </thead>\n",
       "  <tbody>\n",
       "    <tr>\n",
       "      <th>1</th>\n",
       "      <td>Luật số 31/2024/qh15 ngày 18 tháng 01 năm 2024...</td>\n",
       "      <td>DC</td>\n",
       "      <td>trường_hợp cơ_quan , đơn_vị , tổ_chức thực_hiệ...</td>\n",
       "      <td>Luật quản_lí thuế_tính trên số</td>\n",
       "      <td>tiền chậm trả và thời_gian chậm trả</td>\n",
       "      <td>Luật số 31/2024/qh15 ngày 18 tháng 01 năm 2024...</td>\n",
       "    </tr>\n",
       "    <tr>\n",
       "      <th>2</th>\n",
       "      <td>Luật số 31/2024/qh15 ngày 18 tháng 01 năm 2024...</td>\n",
       "      <td>DC</td>\n",
       "      <td>một trong các giấy_tờ được lập trong quá_trình...</td>\n",
       "      <td>Chỉ_thị số 299/tg ngày 10 tháng 11 năm 1980</td>\n",
       "      <td>của thủ_tướng chính_phủ về công_tác đo_đạc , p...</td>\n",
       "      <td>Luật số 31/2024/qh15 ngày 18 tháng 01 năm 2024...</td>\n",
       "    </tr>\n",
       "    <tr>\n",
       "      <th>3</th>\n",
       "      <td>Luật số 31/2024/qh15 ngày 18 tháng 01 năm 2024...</td>\n",
       "      <td>DC</td>\n",
       "      <td>giấy_tờ của đơn_vị quốc_phòng giao đất cho cán...</td>\n",
       "      <td>Chỉ_thị số 282/ct-qp ngày 11 tháng 7 năm 1991</td>\n",
       "      <td>của bộ_trưởng bộ quốc_phòng mà việc giao đất đ...</td>\n",
       "      <td>Luật số 31/2024/qh15 ngày 18 tháng 01 năm 2024...</td>\n",
       "    </tr>\n",
       "    <tr>\n",
       "      <th>4</th>\n",
       "      <td>Luật số 31/2024/qh15 ngày 18 tháng 01 năm 2024...</td>\n",
       "      <td>DC</td>\n",
       "      <td>hợp_đồng mua_bán nhà ở thuộc sở_hữu nhà_nước t...</td>\n",
       "      <td>Nghị_định số 61-cp ngày 05 tháng 7 năm 1994</td>\n",
       "      <td>của chính_phủ về mua_bán và kinh_doanh nhà ở h...</td>\n",
       "      <td>Luật số 31/2024/qh15 ngày 18 tháng 01 năm 2024...</td>\n",
       "    </tr>\n",
       "    <tr>\n",
       "      <th>5</th>\n",
       "      <td>Luật số 31/2024/qh15 ngày 18 tháng 01 năm 2024...</td>\n",
       "      <td>DC</td>\n",
       "      <td>giấy_tờ về sở_hữu nhà ở do cơ_quan có thẩm_quy...</td>\n",
       "      <td>Nghị_quyết số 23/2003/qh11 ngày 26 tháng 11 nă...</td>\n",
       "      <td>của quốc_hội về nhà_đất do nhà_nước đã quản_lí...</td>\n",
       "      <td>Luật số 31/2024/qh15 ngày 18 tháng 01 năm 2024...</td>\n",
       "    </tr>\n",
       "  </tbody>\n",
       "</table>\n",
       "</div>"
      ],
      "text/plain": [
       "                                 Thực thể tham chiếu Quan hệ  \\\n",
       "1  Luật số 31/2024/qh15 ngày 18 tháng 01 năm 2024...      DC   \n",
       "2  Luật số 31/2024/qh15 ngày 18 tháng 01 năm 2024...      DC   \n",
       "3  Luật số 31/2024/qh15 ngày 18 tháng 01 năm 2024...      DC   \n",
       "4  Luật số 31/2024/qh15 ngày 18 tháng 01 năm 2024...      DC   \n",
       "5  Luật số 31/2024/qh15 ngày 18 tháng 01 năm 2024...      DC   \n",
       "\n",
       "                                               Trước  \\\n",
       "1  trường_hợp cơ_quan , đơn_vị , tổ_chức thực_hiệ...   \n",
       "2  một trong các giấy_tờ được lập trong quá_trình...   \n",
       "3  giấy_tờ của đơn_vị quốc_phòng giao đất cho cán...   \n",
       "4  hợp_đồng mua_bán nhà ở thuộc sở_hữu nhà_nước t...   \n",
       "5  giấy_tờ về sở_hữu nhà ở do cơ_quan có thẩm_quy...   \n",
       "\n",
       "                            Thực thể được tham chiếu  \\\n",
       "1                     Luật quản_lí thuế_tính trên số   \n",
       "2        Chỉ_thị số 299/tg ngày 10 tháng 11 năm 1980   \n",
       "3      Chỉ_thị số 282/ct-qp ngày 11 tháng 7 năm 1991   \n",
       "4        Nghị_định số 61-cp ngày 05 tháng 7 năm 1994   \n",
       "5  Nghị_quyết số 23/2003/qh11 ngày 26 tháng 11 nă...   \n",
       "\n",
       "                                                 Sau  \\\n",
       "1                tiền chậm trả và thời_gian chậm trả   \n",
       "2  của thủ_tướng chính_phủ về công_tác đo_đạc , p...   \n",
       "3  của bộ_trưởng bộ quốc_phòng mà việc giao đất đ...   \n",
       "4  của chính_phủ về mua_bán và kinh_doanh nhà ở h...   \n",
       "5  của quốc_hội về nhà_đất do nhà_nước đã quản_lí...   \n",
       "\n",
       "                                                Text  \n",
       "1  Luật số 31/2024/qh15 ngày 18 tháng 01 năm 2024...  \n",
       "2  Luật số 31/2024/qh15 ngày 18 tháng 01 năm 2024...  \n",
       "3  Luật số 31/2024/qh15 ngày 18 tháng 01 năm 2024...  \n",
       "4  Luật số 31/2024/qh15 ngày 18 tháng 01 năm 2024...  \n",
       "5  Luật số 31/2024/qh15 ngày 18 tháng 01 năm 2024...  "
      ]
     },
     "execution_count": 7,
     "metadata": {},
     "output_type": "execute_result"
    }
   ],
   "source": [
    "\n",
    "dt_clean['Text'] = dt_clean['Thực thể tham chiếu'] + ' ' + dt_clean['Trước'] + ' ' + dt_clean['Thực thể được tham chiếu'] + ' ' + dt_clean['Sau']\n",
    "dt_clean =  dt_clean.dropna()\n",
    "\n",
    "# dt_clean['Text'] = dt_clean.apply(lambda d: f'{d[A]} {d[Before_B]} {d[B]} {d[After_B]}'.strip(), axis=1)\n",
    "\n",
    "dt_clean.head()"
   ]
  },
  {
   "cell_type": "code",
   "execution_count": 8,
   "metadata": {},
   "outputs": [
    {
     "data": {
      "text/html": [
       "<div>\n",
       "<style scoped>\n",
       "    .dataframe tbody tr th:only-of-type {\n",
       "        vertical-align: middle;\n",
       "    }\n",
       "\n",
       "    .dataframe tbody tr th {\n",
       "        vertical-align: top;\n",
       "    }\n",
       "\n",
       "    .dataframe thead th {\n",
       "        text-align: right;\n",
       "    }\n",
       "</style>\n",
       "<table border=\"1\" class=\"dataframe\">\n",
       "  <thead>\n",
       "    <tr style=\"text-align: right;\">\n",
       "      <th></th>\n",
       "      <th>Text</th>\n",
       "      <th>Quan hệ</th>\n",
       "    </tr>\n",
       "  </thead>\n",
       "  <tbody>\n",
       "    <tr>\n",
       "      <th>1</th>\n",
       "      <td>Luật số 31/2024/qh15 ngày 18 tháng 01 năm 2024...</td>\n",
       "      <td>DC</td>\n",
       "    </tr>\n",
       "    <tr>\n",
       "      <th>2</th>\n",
       "      <td>Luật số 31/2024/qh15 ngày 18 tháng 01 năm 2024...</td>\n",
       "      <td>DC</td>\n",
       "    </tr>\n",
       "    <tr>\n",
       "      <th>3</th>\n",
       "      <td>Luật số 31/2024/qh15 ngày 18 tháng 01 năm 2024...</td>\n",
       "      <td>DC</td>\n",
       "    </tr>\n",
       "    <tr>\n",
       "      <th>4</th>\n",
       "      <td>Luật số 31/2024/qh15 ngày 18 tháng 01 năm 2024...</td>\n",
       "      <td>DC</td>\n",
       "    </tr>\n",
       "    <tr>\n",
       "      <th>5</th>\n",
       "      <td>Luật số 31/2024/qh15 ngày 18 tháng 01 năm 2024...</td>\n",
       "      <td>DC</td>\n",
       "    </tr>\n",
       "  </tbody>\n",
       "</table>\n",
       "</div>"
      ],
      "text/plain": [
       "                                                Text Quan hệ\n",
       "1  Luật số 31/2024/qh15 ngày 18 tháng 01 năm 2024...      DC\n",
       "2  Luật số 31/2024/qh15 ngày 18 tháng 01 năm 2024...      DC\n",
       "3  Luật số 31/2024/qh15 ngày 18 tháng 01 năm 2024...      DC\n",
       "4  Luật số 31/2024/qh15 ngày 18 tháng 01 năm 2024...      DC\n",
       "5  Luật số 31/2024/qh15 ngày 18 tháng 01 năm 2024...      DC"
      ]
     },
     "execution_count": 8,
     "metadata": {},
     "output_type": "execute_result"
    }
   ],
   "source": [
    "dt_preprocess =  dt_clean[['Text', 'Quan hệ']].copy()\n",
    "dt_preprocess.head()\n"
   ]
  },
  {
   "cell_type": "code",
   "execution_count": 9,
   "metadata": {},
   "outputs": [
    {
     "data": {
      "text/html": [
       "<div>\n",
       "<style scoped>\n",
       "    .dataframe tbody tr th:only-of-type {\n",
       "        vertical-align: middle;\n",
       "    }\n",
       "\n",
       "    .dataframe tbody tr th {\n",
       "        vertical-align: top;\n",
       "    }\n",
       "\n",
       "    .dataframe thead th {\n",
       "        text-align: right;\n",
       "    }\n",
       "</style>\n",
       "<table border=\"1\" class=\"dataframe\">\n",
       "  <thead>\n",
       "    <tr style=\"text-align: right;\">\n",
       "      <th></th>\n",
       "      <th>Text</th>\n",
       "      <th>Quan hệ</th>\n",
       "    </tr>\n",
       "  </thead>\n",
       "  <tbody>\n",
       "    <tr>\n",
       "      <th>1</th>\n",
       "      <td>luật số 312024qh15 ngày 18 tháng 01 năm 2024 c...</td>\n",
       "      <td>DC</td>\n",
       "    </tr>\n",
       "    <tr>\n",
       "      <th>2</th>\n",
       "      <td>luật số 312024qh15 ngày 18 tháng 01 năm 2024 c...</td>\n",
       "      <td>DC</td>\n",
       "    </tr>\n",
       "    <tr>\n",
       "      <th>3</th>\n",
       "      <td>luật số 312024qh15 ngày 18 tháng 01 năm 2024 c...</td>\n",
       "      <td>DC</td>\n",
       "    </tr>\n",
       "    <tr>\n",
       "      <th>4</th>\n",
       "      <td>luật số 312024qh15 ngày 18 tháng 01 năm 2024 c...</td>\n",
       "      <td>DC</td>\n",
       "    </tr>\n",
       "    <tr>\n",
       "      <th>5</th>\n",
       "      <td>luật số 312024qh15 ngày 18 tháng 01 năm 2024 c...</td>\n",
       "      <td>DC</td>\n",
       "    </tr>\n",
       "  </tbody>\n",
       "</table>\n",
       "</div>"
      ],
      "text/plain": [
       "                                                Text Quan hệ\n",
       "1  luật số 312024qh15 ngày 18 tháng 01 năm 2024 c...      DC\n",
       "2  luật số 312024qh15 ngày 18 tháng 01 năm 2024 c...      DC\n",
       "3  luật số 312024qh15 ngày 18 tháng 01 năm 2024 c...      DC\n",
       "4  luật số 312024qh15 ngày 18 tháng 01 năm 2024 c...      DC\n",
       "5  luật số 312024qh15 ngày 18 tháng 01 năm 2024 c...      DC"
      ]
     },
     "execution_count": 9,
     "metadata": {},
     "output_type": "execute_result"
    }
   ],
   "source": [
    "dt_preprocess['Text'] = text_preprocessing(dt_preprocess)\n",
    "dt_preprocess.head()"
   ]
  },
  {
   "cell_type": "markdown",
   "metadata": {},
   "source": [
    "**Text Length**"
   ]
  },
  {
   "cell_type": "code",
   "execution_count": 10,
   "metadata": {},
   "outputs": [
    {
     "name": "stdout",
     "output_type": "stream",
     "text": [
      "Minimum length: 95\n",
      "Maximum length: 1078\n",
      "Average length: 270\n",
      "Mode length: 243\n"
     ]
    }
   ],
   "source": [
    "def check_length(data):\n",
    "    min_length = float('inf')\n",
    "    max_length = 0\n",
    "    total_length = 0\n",
    "    count = 0\n",
    "    length_counts = {}\n",
    "\n",
    "    for text in data:\n",
    "        length = len(text)\n",
    "\n",
    "        # Update minimum length\n",
    "        if length < min_length:\n",
    "            min_length = length\n",
    "            m = count\n",
    "\n",
    "        # Update maximum length\n",
    "        if length > max_length:\n",
    "            max_length = length\n",
    "\n",
    "        # Update total length for average calculation\n",
    "        total_length += length\n",
    "\n",
    "        # Update length counts for mode calculation\n",
    "        if length in length_counts:\n",
    "            length_counts[length] += 1\n",
    "        else:\n",
    "            length_counts[length] = 1\n",
    "\n",
    "        count += 1\n",
    "\n",
    "    average_length = round(total_length / count)\n",
    "    mode_length = max(length_counts, key=length_counts.get)\n",
    "    print(\"Minimum length:\", min_length)\n",
    "    print(\"Maximum length:\", max_length)\n",
    "    print(\"Average length:\", average_length)\n",
    "    print(\"Mode length:\", mode_length)\n",
    "\n",
    "\n",
    "check_length(dt_preprocess['Text'])"
   ]
  },
  {
   "cell_type": "code",
   "execution_count": 11,
   "metadata": {},
   "outputs": [],
   "source": [
    "max_length = 250  # Chiều dài tối đa của câu lấy theo độ dài trung bình của toàn bộ tập dữ liệu\n"
   ]
  },
  {
   "cell_type": "markdown",
   "metadata": {},
   "source": [
    "**Tokenization**"
   ]
  },
  {
   "cell_type": "code",
   "execution_count": 12,
   "metadata": {},
   "outputs": [],
   "source": [
    "def tokenization(data):\n",
    "    Text_col = data\n",
    "    tokenizer = Tokenizer(split=' ')\n",
    "    tokenizer.fit_on_texts(Text_col)\n",
    "    words_to_index = tokenizer.word_index\n",
    "    vocab_size = len(words_to_index) + 1\n",
    "\n",
    "    # chuyển đổi dữ liệu văn bản thành các chuỗi số\n",
    "    tokenizer_seq = tokenizer.texts_to_sequences(Text_col)\n",
    "\n",
    "    # Đảm bảo mỗi sequece có cùng độ dài\n",
    "    # 'post' có nghĩa là thêm padding vào cuối mỗi sequence\n",
    "    # 'pre' có nghĩa là thêm padding vào đầu mỗi sequence\n",
    "    tokenizer_pad = pad_sequences(tokenizer_seq, padding='post', maxlen=max_length)\n",
    "\n",
    "    return tokenizer_pad, vocab_size, words_to_index"
   ]
  },
  {
   "cell_type": "code",
   "execution_count": 13,
   "metadata": {},
   "outputs": [
    {
     "name": "stdout",
     "output_type": "stream",
     "text": [
      "<class 'pandas.core.frame.DataFrame'>\n",
      "Index: 52212 entries, 1 to 97625\n",
      "Data columns (total 2 columns):\n",
      " #   Column   Non-Null Count  Dtype \n",
      "---  ------   --------------  ----- \n",
      " 0   Text     52212 non-null  object\n",
      " 1   Quan hệ  52212 non-null  object\n",
      "dtypes: object(2)\n",
      "memory usage: 1.2+ MB\n"
     ]
    }
   ],
   "source": [
    "# Tách từ\n",
    "data_tokenizer = dt_preprocess.copy()\n",
    "data_tokenizer['Text'] = data_tokenizer['Text'].apply(word_tokenize)\n",
    "\n",
    "data_tokenizer.info()\n",
    "data_tokenizer.head()\n",
    "\n",
    "\n",
    "data_tokenizer_pad, vocab_size, words_to_index = tokenization(data_tokenizer['Text'])"
   ]
  },
  {
   "cell_type": "code",
   "execution_count": 14,
   "metadata": {},
   "outputs": [
    {
     "name": "stdout",
     "output_type": "stream",
     "text": [
      "[[  29    2 2028 ...    0    0    0]\n",
      " [  29    2 2028 ...    0    0    0]\n",
      " [  29    2 2028 ...    0    0    0]\n",
      " ...\n",
      " [   9    2 1213 ...    0    0    0]\n",
      " [   9    2 1213 ...    0    0    0]\n",
      " [   9    2 1213 ...    0    0    0]]\n"
     ]
    }
   ],
   "source": [
    "print(data_tokenizer_pad)"
   ]
  },
  {
   "cell_type": "markdown",
   "metadata": {},
   "source": [
    "**Embedding**"
   ]
  },
  {
   "cell_type": "code",
   "execution_count": null,
   "metadata": {},
   "outputs": [],
   "source": [
    "with open('model/fasttext/text_tvpl_2.txt', 'w', encoding=\"utf-8\") as file:\n",
    "    # Write content to the\n",
    "    for i in dt_preprocess['Text']:\n",
    "        file.write(i+\"\\n\")"
   ]
  },
  {
   "cell_type": "code",
   "execution_count": null,
   "metadata": {},
   "outputs": [],
   "source": [
    "model_fasttext = fasttext.train_unsupervised('model/fasttext/text_tvpl_2.txt', maxn=0, dim=100)\n",
    "model_fasttext.save_model('model/fasttext/tvpl_2_fasttext_100d.bin')"
   ]
  },
  {
   "cell_type": "code",
   "execution_count": null,
   "metadata": {},
   "outputs": [
    {
     "name": "stdout",
     "output_type": "stream",
     "text": [
      "Most common word: của\n",
      "Frequency: 123658\n"
     ]
    }
   ],
   "source": [
    "all_text = ' '.join(dt_preprocess['Text'])\n",
    "\n",
    "# Split the text into individual words\n",
    "words = all_text.split()\n",
    "\n",
    "# Count the frequency of each word\n",
    "word_counts = Counter(words)\n",
    "\n",
    "# Find the word with the highest frequency\n",
    "most_common_word, frequency = word_counts.most_common(1)[0]\n",
    "\n",
    "print(\"Most common word:\", most_common_word)\n",
    "print(\"Frequency:\", frequency)"
   ]
  },
  {
   "cell_type": "code",
   "execution_count": 15,
   "metadata": {},
   "outputs": [
    {
     "name": "stdout",
     "output_type": "stream",
     "text": [
      "Max length | input_length      = 250\n",
      "input_dim  | vocab_size        = 17933\n",
      "output_dim | embed_vector_size = 100\n",
      "weights = (17933, 100)\n",
      "WARNING:tensorflow:From c:\\Users\\Administrator\\AppData\\Local\\Programs\\Python\\Python311\\Lib\\site-packages\\keras\\src\\backend.py:873: The name tf.get_default_graph is deprecated. Please use tf.compat.v1.get_default_graph instead.\n",
      "\n"
     ]
    }
   ],
   "source": [
    "embedding_dim = 100  # Kích thước nhúng\n",
    "\n",
    "\n",
    "ft = fasttext.load_model('model/fasttext/vbpl_fasttext_100d.bin')\n",
    "embed_vector_size = ft.get_word_vector('của').shape[0]\n",
    "\n",
    "embed_vector_matrix = np.zeros((vocab_size, embed_vector_size))\n",
    "\n",
    "for word, i in words_to_index.items():\n",
    "    embedding_vector = ft.get_word_vector(word)\n",
    "    if any(embedding_vector):\n",
    "        embed_vector_matrix[i] = embedding_vector\n",
    "    else:\n",
    "        embed_vector_matrix[i] = np.random.uniform(low=-1, high=1, size= embed_vector_size)\n",
    "\n",
    "print(f\"Max length | input_length      = {max_length}\")\n",
    "print(f\"input_dim  | vocab_size        = {vocab_size}\")\n",
    "print(f\"output_dim | embed_vector_size = {embed_vector_size}\")\n",
    "print(f\"weights = {embed_vector_matrix.shape}\")\n",
    "\n",
    "embedding = Embedding(input_dim=vocab_size, output_dim=embed_vector_size,\n",
    "                      input_length=max_length, weights=[embed_vector_matrix], trainable=False)"
   ]
  },
  {
   "cell_type": "markdown",
   "metadata": {},
   "source": [
    "**Create Model**"
   ]
  },
  {
   "cell_type": "code",
   "execution_count": 16,
   "metadata": {},
   "outputs": [
    {
     "name": "stdout",
     "output_type": "stream",
     "text": [
      "Number labels = 7\n"
     ]
    }
   ],
   "source": [
    "classes = data_tokenizer['Quan hệ'].nunique()\n",
    "print(f\"Number labels = {classes}\")\n",
    "\n",
    "def create_model():\n",
    "    lstm_units = 128  # Số đơn vị LSTM\n",
    "    dropout_val = 0.2\n",
    "    recurrent_dropout = 0.1\n",
    "\n",
    "    model = Sequential()\n",
    "    model.add(embedding)\n",
    "    model.add(LSTM(lstm_units, return_sequences=True, dropout=dropout_val,recurrent_dropout=recurrent_dropout))\n",
    "    model.add(LSTM(lstm_units, return_sequences=True, dropout=dropout_val,recurrent_dropout=recurrent_dropout))\n",
    "    model.add(LSTM(lstm_units, return_sequences=True, dropout=dropout_val,recurrent_dropout=recurrent_dropout))\n",
    "    model.add(SeqSelfAttention())\n",
    "    model.add(Flatten())\n",
    "    model.add(Dense(classes, activation=\"softmax\"))\n",
    "\n",
    "    # Model compiling\n",
    "    model.compile(optimizer='adam', loss='sparse_categorical_crossentropy', metrics=['accuracy'])\n",
    "\n",
    "    return model"
   ]
  },
  {
   "cell_type": "code",
   "execution_count": 17,
   "metadata": {},
   "outputs": [],
   "source": [
    "# Chia dataset thành tập training thành train_val và test\n",
    "X = data_tokenizer_pad\n",
    "y = data_tokenizer['Quan hệ']\n",
    "\n",
    "X_train_val, X_test, y_train_val, y_test = train_test_split(X, y.values, test_size=0.2, random_state=40)"
   ]
  },
  {
   "cell_type": "code",
   "execution_count": 18,
   "metadata": {},
   "outputs": [
    {
     "name": "stdout",
     "output_type": "stream",
     "text": [
      "\n",
      "Labels: ['BTT', 'CC', 'DC', 'DHD', 'DSD', 'HHL', 'None'] \n",
      "\n",
      "Size Train:  (31326, 250) (31326,)\n",
      "Size Test:  (10443, 250) (10443,)\n",
      "Size Validation:  (10443, 250) (10443,)\n"
     ]
    }
   ],
   "source": [
    "# encode label\n",
    "label_encoder = LabelEncoder()\n",
    "label_encoder.fit(data_tokenizer[\"Quan hệ\"].values)\n",
    "print('\\nLabels:',list(label_encoder.classes_), '\\n')\n",
    "y_train_val = label_encoder.transform(y_train_val)\n",
    "y_test = label_encoder.transform(y_test)\n",
    "\n",
    "# Chia train_val thành train và validation\n",
    "X_train, X_val, y_train, y_val  = train_test_split(X_train_val, y_train_val, test_size=0.25, random_state=40)\n",
    "\n",
    "print(\"Size Train: \",X_train.shape, y_train.shape)\n",
    "print(\"Size Test: \",X_test.shape, y_test.shape)\n",
    "print(\"Size Validation: \",X_val.shape, y_val.shape)"
   ]
  },
  {
   "cell_type": "markdown",
   "metadata": {},
   "source": [
    "**Run**"
   ]
  },
  {
   "cell_type": "code",
   "execution_count": 19,
   "metadata": {},
   "outputs": [
    {
     "name": "stderr",
     "output_type": "stream",
     "text": [
      "c:\\Users\\Administrator\\AppData\\Local\\Programs\\Python\\Python311\\Lib\\site-packages\\keras\\src\\initializers\\initializers.py:120: UserWarning:\n",
      "\n",
      "The initializer GlorotNormal is unseeded and being called multiple times, which will return identical values each time (even if the initializer is unseeded). Please update your code to provide a seed to the initializer, or avoid using the same initializer instance more than once.\n",
      "\n"
     ]
    },
    {
     "name": "stdout",
     "output_type": "stream",
     "text": [
      "WARNING:tensorflow:From c:\\Users\\Administrator\\AppData\\Local\\Programs\\Python\\Python311\\Lib\\site-packages\\keras\\src\\optimizers\\__init__.py:309: The name tf.train.Optimizer is deprecated. Please use tf.compat.v1.train.Optimizer instead.\n",
      "\n",
      "Model: \"sequential\"\n",
      "_________________________________________________________________\n",
      " Layer (type)                Output Shape              Param #   \n",
      "=================================================================\n",
      " embedding (Embedding)       (None, 250, 100)          1793300   \n",
      "                                                                 \n",
      " lstm (LSTM)                 (None, 250, 128)          117248    \n",
      "                                                                 \n",
      " lstm_1 (LSTM)               (None, 250, 128)          131584    \n",
      "                                                                 \n",
      " lstm_2 (LSTM)               (None, 250, 128)          131584    \n",
      "                                                                 \n",
      " seq_self_attention (SeqSel  (None, 250, 128)          8257      \n",
      " fAttention)                                                     \n",
      "                                                                 \n",
      " flatten (Flatten)           (None, 32000)             0         \n",
      "                                                                 \n",
      " dense (Dense)               (None, 7)                 224007    \n",
      "                                                                 \n",
      "=================================================================\n",
      "Total params: 2405980 (9.18 MB)\n",
      "Trainable params: 612680 (2.34 MB)\n",
      "Non-trainable params: 1793300 (6.84 MB)\n",
      "_________________________________________________________________\n"
     ]
    }
   ],
   "source": [
    "model = create_model()\n",
    "#batchSize = round(X_train.shape[0] * 0.075)\n",
    "batchSize = 128\n",
    "epoch = 10\n",
    "#print(batchSize)\n",
    "model.summary()\n"
   ]
  },
  {
   "cell_type": "code",
   "execution_count": 20,
   "metadata": {},
   "outputs": [
    {
     "name": "stdout",
     "output_type": "stream",
     "text": [
      "Epoch 1/10\n",
      "WARNING:tensorflow:From c:\\Users\\Administrator\\AppData\\Local\\Programs\\Python\\Python311\\Lib\\site-packages\\keras\\src\\utils\\tf_utils.py:492: The name tf.ragged.RaggedTensorValue is deprecated. Please use tf.compat.v1.ragged.RaggedTensorValue instead.\n",
      "\n",
      "WARNING:tensorflow:From c:\\Users\\Administrator\\AppData\\Local\\Programs\\Python\\Python311\\Lib\\site-packages\\keras\\src\\engine\\base_layer_utils.py:384: The name tf.executing_eagerly_outside_functions is deprecated. Please use tf.compat.v1.executing_eagerly_outside_functions instead.\n",
      "\n",
      "245/245 [==============================] - ETA: 0s - loss: 0.4722 - accuracy: 0.8508 \n",
      "Epoch 1: saving model to checkpointvbpl_ft\\cp.ckpt\n",
      "245/245 [==============================] - 5563s 23s/step - loss: 0.4722 - accuracy: 0.8508 - val_loss: 0.2184 - val_accuracy: 0.9353\n",
      "Epoch 2/10\n",
      "245/245 [==============================] - ETA: 0s - loss: 0.2155 - accuracy: 0.9330 \n",
      "Epoch 2: saving model to checkpointvbpl_ft\\cp.ckpt\n",
      "245/245 [==============================] - 6372s 26s/step - loss: 0.2155 - accuracy: 0.9330 - val_loss: 0.1939 - val_accuracy: 0.9412\n",
      "Epoch 3/10\n",
      "245/245 [==============================] - ETA: 0s - loss: 0.1779 - accuracy: 0.9448 \n",
      "Epoch 3: saving model to checkpointvbpl_ft\\cp.ckpt\n",
      "245/245 [==============================] - 6336s 26s/step - loss: 0.1779 - accuracy: 0.9448 - val_loss: 0.1463 - val_accuracy: 0.9544\n",
      "Epoch 4/10\n",
      "245/245 [==============================] - ETA: 0s - loss: 0.1422 - accuracy: 0.9556 \n",
      "Epoch 4: saving model to checkpointvbpl_ft\\cp.ckpt\n",
      "245/245 [==============================] - 7140s 29s/step - loss: 0.1422 - accuracy: 0.9556 - val_loss: 0.1354 - val_accuracy: 0.9567\n",
      "Epoch 5/10\n",
      "245/245 [==============================] - ETA: 0s - loss: 0.1277 - accuracy: 0.9589 \n",
      "Epoch 5: saving model to checkpointvbpl_ft\\cp.ckpt\n",
      "245/245 [==============================] - 7287s 30s/step - loss: 0.1277 - accuracy: 0.9589 - val_loss: 0.1298 - val_accuracy: 0.9622\n",
      "Epoch 6/10\n",
      "245/245 [==============================] - ETA: 0s - loss: 0.1138 - accuracy: 0.9647 \n",
      "Epoch 6: saving model to checkpointvbpl_ft\\cp.ckpt\n",
      "245/245 [==============================] - 7302s 30s/step - loss: 0.1138 - accuracy: 0.9647 - val_loss: 0.1135 - val_accuracy: 0.9671\n",
      "Epoch 7/10\n",
      "245/245 [==============================] - ETA: 0s - loss: 0.1005 - accuracy: 0.9677 \n",
      "Epoch 7: saving model to checkpointvbpl_ft\\cp.ckpt\n",
      "245/245 [==============================] - 7301s 30s/step - loss: 0.1005 - accuracy: 0.9677 - val_loss: 0.1193 - val_accuracy: 0.9660\n",
      "Epoch 8/10\n",
      "245/245 [==============================] - ETA: 0s - loss: 0.0940 - accuracy: 0.9701 \n",
      "Epoch 8: saving model to checkpointvbpl_ft\\cp.ckpt\n",
      "245/245 [==============================] - 7381s 30s/step - loss: 0.0940 - accuracy: 0.9701 - val_loss: 0.1162 - val_accuracy: 0.9661\n",
      "Epoch 8: early stopping\n"
     ]
    }
   ],
   "source": [
    "# Ghi lại thời điểm bắt đầu\n",
    "start_time = time.time()\n",
    "checkpoint_path = \"\".join(['checkpoint','vbpl_ft',\"/cp.ckpt\"])\n",
    "checkpoint_dir = os.path.dirname(checkpoint_path)\n",
    "earlystopping = EarlyStopping(monitor='val_loss', mode='min', verbose=1,patience=2)\n",
    "checkpointing = tf.keras.callbacks.ModelCheckpoint(filepath=checkpoint_path,\n",
    "                                                 save_weights_only=True,\n",
    "                                                 verbose=1)\n",
    "lstm_model_history = model.fit(X_train, y_train, batch_size=batchSize, epochs=epoch, callbacks=[earlystopping,checkpointing], validation_data=(X_val, y_val))\n",
    "\n",
    "# Tính thời gian đã trôi qua\n",
    "training_time = round(time.time() - start_time, 2)"
   ]
  },
  {
   "cell_type": "markdown",
   "metadata": {},
   "source": [
    "**Save Model**"
   ]
  },
  {
   "cell_type": "code",
   "execution_count": 21,
   "metadata": {},
   "outputs": [
    {
     "name": "stdout",
     "output_type": "stream",
     "text": [
      "model/classify_law_rel_fasttext_with_preprocess_tvpl_250_128lstmunits_128_10_0.2_0.1_31326_54681.73.h5\n"
     ]
    },
    {
     "name": "stderr",
     "output_type": "stream",
     "text": [
      "c:\\Users\\Administrator\\AppData\\Local\\Programs\\Python\\Python311\\Lib\\site-packages\\keras\\src\\engine\\training.py:3103: UserWarning:\n",
      "\n",
      "You are saving your model as an HDF5 file via `model.save()`. This file format is considered legacy. We recommend using instead the native Keras format, e.g. `model.save('my_model.keras')`.\n",
      "\n"
     ]
    }
   ],
   "source": [
    "# thu tu cac chi so: maxLength_Batch_epochs_dropout_recurrentDropout\n",
    "path = f\"model/classify_law_rel_fasttext_with_preprocess_tvpl_{max_length}_128lstmunits_{batchSize}_{epoch}_{0.2}_{0.1}_{X_train.shape[0]}_{training_time}.h5\"\n",
    "\n",
    "print(path)\n",
    "model.save(path)"
   ]
  },
  {
   "cell_type": "markdown",
   "metadata": {},
   "source": [
    "**Prediction**"
   ]
  },
  {
   "cell_type": "code",
   "execution_count": 22,
   "metadata": {},
   "outputs": [
    {
     "name": "stdout",
     "output_type": "stream",
     "text": [
      "327/327 [==============================] - 125s 380ms/step - loss: 0.0926 - accuracy: 0.9727\n",
      "Test Score: 0.09256422519683838\n",
      "Test Accuracy: 0.9727090001106262\n"
     ]
    }
   ],
   "source": [
    "# Predictions on the Test Set\n",
    "score = model.evaluate(X_test, y_test)\n",
    "\n",
    "# Model Performance\n",
    "print(\"Test Score:\", score[0])\n",
    "print(\"Test Accuracy:\", score[1])"
   ]
  },
  {
   "cell_type": "code",
   "execution_count": 23,
   "metadata": {},
   "outputs": [
    {
     "name": "stdout",
     "output_type": "stream",
     "text": [
      "327/327 [==============================] - 117s 353ms/step\n",
      "Kết quả thực tế: ['DC' 'CC' 'DC' ... 'CC' 'DC' 'BTT']\n",
      "Kết quả mô hình phân loại: ['DC' 'CC' 'DC' ... 'CC' 'DC' 'None'] - [ True  True  True ...  True  True False]\n"
     ]
    }
   ],
   "source": [
    "start = None\n",
    "end = None\n",
    "\n",
    "# Phân loại \n",
    "y_pred = model.predict(X_test[start:end])\n",
    "# Mã hóa label\n",
    "y_pred_original = label_encoder.inverse_transform(np.argmax(y_pred, axis=1))\n",
    "y_test_original = label_encoder.inverse_transform(y_test[start:end])\n",
    "\n",
    "# In ra kết quả phân loại\n",
    "print(f\"Kết quả thực tế: {y_test_original}\")\n",
    "print(f\"Kết quả mô hình phân loại: {y_pred_original} - {y_pred_original == y_test_original}\")"
   ]
  },
  {
   "cell_type": "code",
   "execution_count": 24,
   "metadata": {},
   "outputs": [
    {
     "data": {
      "image/png": "[encoded data removed]",
      "text/plain": [
       "<Figure size 1000x600 with 1 Axes>"
      ]
     },
     "metadata": {},
     "output_type": "display_data"
    }
   ],
   "source": [
    "def plot_graph(history):\n",
    "    acc = history.history['accuracy']\n",
    "    val_acc = history.history['val_accuracy']\n",
    "    loss = history.history['loss']\n",
    "    val_loss = history.history['val_loss']\n",
    "    epochs = range(len(acc))\n",
    "\n",
    "    plt.figure(figsize=(10,6))\n",
    "    plt.plot(epochs, acc, 'r', label='Training Accuracy')\n",
    "    plt.plot(epochs, val_acc, 'b', label='Validation Accuracy')\n",
    "    plt.plot(epochs, loss, 'g', label='Training Loss')\n",
    "    plt.plot(epochs, val_loss, 'y', label='Validation Loss')\n",
    "\n",
    "    plt.title(f'{X_train.shape[0]} Data - {batchSize} batch size - {epoch} epochs')\n",
    "    plt.legend(loc=0)\n",
    "    plt.savefig(f'images/law_fasttext_with_preprocess_tvpl_{max_length}_128lstmunits_{batchSize}_{epoch}_0.2_0.1_{X_train.shape[0]}_{training_time}.png')\n",
    "    plt.show()\n",
    "\n",
    "\n",
    "plot_graph(lstm_model_history)"
   ]
  },
  {
   "cell_type": "code",
   "execution_count": 25,
   "metadata": {},
   "outputs": [
    {
     "name": "stdout",
     "output_type": "stream",
     "text": [
      "Metrics Table per Class:\n",
      "  Class  Precision    Recall  F1 Score\n",
      "0   BTT   0.901734  0.812500  0.854795\n",
      "1    CC   0.994489  0.989358  0.991917\n",
      "2    DC   0.985927  0.979798  0.982853\n",
      "3   DHD   0.696429  0.787879  0.739336\n",
      "4   DSD   0.949227  0.905263  0.926724\n",
      "5   HHL   0.937500  0.555556  0.697674\n",
      "6  None   0.918683  0.975732  0.946348\n",
      "\n",
      "Macro-Average Metrics:\n",
      "Macro Precision: 0.912\n",
      "Macro Recall: 0.858\n",
      "Macro F1 Score: 0.877\n"
     ]
    }
   ],
   "source": [
    "# Calculate precision, recall, and F1 score for each class\n",
    "precision_per_class = precision_score(y_test_original, y_pred_original, average=None)\n",
    "recall_per_class = recall_score(y_test_original, y_pred_original, average=None)\n",
    "f1_per_class = f1_score(y_test_original, y_pred_original, average=None)\n",
    "\n",
    "# Calculate macro-average precision, recall, and F1 score\n",
    "macro_precision = round(np.mean(precision_per_class),3)\n",
    "macro_recall = round(np.mean(recall_per_class),3)\n",
    "macro_f1 = round(np.mean(f1_per_class),3)\n",
    "\n",
    "# Create a DataFrame for the table\n",
    "metrics_table_per_class = pd.DataFrame({\n",
    "    'Class': np.unique(y_test_original),\n",
    "    'Precision': precision_per_class,\n",
    "    'Recall': recall_per_class,\n",
    "    'F1 Score': f1_per_class\n",
    "})\n",
    "\n",
    "# Print the table per class\n",
    "print(\"Metrics Table per Class:\")\n",
    "print(metrics_table_per_class)\n",
    "\n",
    "# Print macro-average metrics\n",
    "print(\"\\nMacro-Average Metrics:\")\n",
    "print(f\"Macro Precision: {macro_precision}\")\n",
    "print(f\"Macro Recall: {macro_recall}\")\n",
    "print(f\"Macro F1 Score: {macro_f1}\")"
   ]
  },
  {
   "cell_type": "markdown",
   "metadata": {},
   "source": [
    "**Confusion Matrix**"
   ]
  },
  {
   "cell_type": "code",
   "execution_count": 26,
   "metadata": {},
   "outputs": [
    {
     "name": "stdout",
     "output_type": "stream",
     "text": [
      "Ma trận confusion:\n",
      "[[ 156    0    4    0    3    0   29]\n",
      " [   0 3068   18   12    0    0    3]\n",
      " [   3    8 5044   14   16    0   63]\n",
      " [   0    3   15   78    0    0    3]\n",
      " [   7    0   14    5  430    0   19]\n",
      " [   3    0    2    1    2   15    4]\n",
      " [   4    6   19    2    2    1 1367]]\n"
     ]
    }
   ],
   "source": [
    "# Tìm tất cả các nhãn duy nhất\n",
    "labels = np.unique(np.concatenate((y_test_original, y_pred_original)))\n",
    "\n",
    "# Tạo ma trận confusion\n",
    "confusion = confusion_matrix(y_test_original, y_pred_original, labels=labels)\n",
    "\n",
    "print(\"Ma trận confusion:\")\n",
    "print(confusion)"
   ]
  }
 ],
 "metadata": {
  "kernelspec": {
   "display_name": "Python 3",
   "language": "python",
   "name": "python3"
  },
  "language_info": {
   "codemirror_mode": {
    "name": "ipython",
    "version": 3
   },
   "file_extension": ".py",
   "mimetype": "text/x-python",
   "name": "python",
   "nbconvert_exporter": "python",
   "pygments_lexer": "ipython3",
   "version": "3.11.5"
  }
 },
 "nbformat": 4,
 "nbformat_minor": 2
}
